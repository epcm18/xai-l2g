{
 "cells": [
  {
   "cell_type": "code",
   "execution_count": 2,
   "id": "7aff0616-28a0-4d54-b345-c5f4b29c6035",
   "metadata": {},
   "outputs": [
    {
     "ename": "ModuleNotFoundError",
     "evalue": "No module named 'pandas'",
     "output_type": "error",
     "traceback": [
      "\u001b[31m---------------------------------------------------------------------------\u001b[39m",
      "\u001b[31mModuleNotFoundError\u001b[39m                       Traceback (most recent call last)",
      "\u001b[36mCell\u001b[39m\u001b[36m \u001b[39m\u001b[32mIn[2]\u001b[39m\u001b[32m, line 2\u001b[39m\n\u001b[32m      1\u001b[39m \u001b[38;5;66;03m# --- 1. Import necessary libraries ---\u001b[39;00m\n\u001b[32m----> \u001b[39m\u001b[32m2\u001b[39m \u001b[38;5;28;01mimport\u001b[39;00m\u001b[38;5;250m \u001b[39m\u001b[34;01mpandas\u001b[39;00m\u001b[38;5;250m \u001b[39m\u001b[38;5;28;01mas\u001b[39;00m\u001b[38;5;250m \u001b[39m\u001b[34;01mpd\u001b[39;00m\n\u001b[32m      3\u001b[39m \u001b[38;5;28;01mimport\u001b[39;00m\u001b[38;5;250m \u001b[39m\u001b[34;01mxgboost\u001b[39;00m\u001b[38;5;250m \u001b[39m\u001b[38;5;28;01mas\u001b[39;00m\u001b[38;5;250m \u001b[39m\u001b[34;01mxgb\u001b[39;00m\n\u001b[32m      4\u001b[39m \u001b[38;5;28;01mimport\u001b[39;00m\u001b[38;5;250m \u001b[39m\u001b[34;01mjoblib\u001b[39;00m\n",
      "\u001b[31mModuleNotFoundError\u001b[39m: No module named 'pandas'"
     ]
    }
   ],
   "source": [
    "# --- 1. Import necessary libraries ---\n",
    "import pandas as pd\n",
    "import xgboost as xgb\n",
    "import joblib\n",
    "from sklearn.model_selection import train_test_split\n",
    "from sklearn.preprocessing import LabelEncoder\n",
    "\n",
    "print(\"Libraries imported successfully!\")"
   ]
  },
  {
   "cell_type": "code",
   "execution_count": 3,
   "id": "57ea3f48-c1c3-4c67-ae10-e45b87444f0b",
   "metadata": {},
   "outputs": [
    {
     "name": "stdout",
     "output_type": "stream",
     "text": [
      "Data loaded from 'genetics-gold-standards/gold_standards/processed/gwas_gold_standards.191108.tsv'. Shape: (2435, 31)\n"
     ]
    }
   ],
   "source": [
    "# The path is relative to where your notebook is located\n",
    "data_path = 'genetics-gold-standards/gold_standards/processed/gwas_gold_standards.191108.tsv'\n",
    "gs_data = pd.read_csv(data_path, sep='\\t')\n",
    "\n",
    "print(f\"Data loaded from '{data_path}'. Shape: {gs_data.shape}\")"
   ]
  },
  {
   "cell_type": "code",
   "execution_count": 6,
   "id": "01912d58-790f-40f0-bbfc-9792c99f6a09",
   "metadata": {},
   "outputs": [
    {
     "name": "stdout",
     "output_type": "stream",
     "text": [
      "['association_info.ancestry', 'association_info.doi', 'association_info.gwas_catalog_id', 'association_info.neg_log_pval', 'association_info.otg_id', 'association_info.pubmed_id', 'association_info.url', 'gold_standard_info.evidence.class', 'gold_standard_info.evidence.confidence', 'gold_standard_info.evidence.curated_by', 'gold_standard_info.evidence.description', 'gold_standard_info.evidence.pubmed_id', 'gold_standard_info.evidence.source', 'gold_standard_info.gene_id', 'gold_standard_info.highest_confidence', 'metadata.comments', 'metadata.date_added', 'metadata.reviewed_by', 'metadata.set_label', 'metadata.submitted_by', 'metadata.tags', 'sentinel_variant.alleles.alternative', 'sentinel_variant.alleles.reference', 'sentinel_variant.locus_GRCh37.chromosome', 'sentinel_variant.locus_GRCh37.position', 'sentinel_variant.locus_GRCh38.chromosome', 'sentinel_variant.locus_GRCh38.position', 'sentinel_variant.rsid', 'trait_info.ontology', 'trait_info.reported_trait_name', 'trait_info.standard_trait_name']\n",
      "  association_info.ancestry association_info.doi  \\\n",
      "0                       EUR                  NaN   \n",
      "1                   unknown                  NaN   \n",
      "2                   ASW|EUR                  NaN   \n",
      "3                       EUR                  NaN   \n",
      "4                       EUR                  NaN   \n",
      "5                       EUR                  NaN   \n",
      "6                       EUR                  NaN   \n",
      "7                       EUR                  NaN   \n",
      "8                       EUR                  NaN   \n",
      "9                       EUR                  NaN   \n",
      "\n",
      "  association_info.gwas_catalog_id  association_info.neg_log_pval  \\\n",
      "0                       GCST000324                         23.699   \n",
      "1                       GCST000386                        323.301   \n",
      "2                       GCST000388                          8.046   \n",
      "3                       GCST000493                         65.046   \n",
      "4                       GCST000568                        217.046   \n",
      "5                       GCST000697                        108.699   \n",
      "6                       GCST000697                         19.523   \n",
      "7                       GCST000697                         26.699   \n",
      "8                       GCST000703                         27.000   \n",
      "9                       GCST000703                          8.398   \n",
      "\n",
      "  association_info.otg_id  association_info.pubmed_id association_info.url  \\\n",
      "0            GCST000324_3                  19185284.0                  NaN   \n",
      "1              GCST000386                  19414484.0                  NaN   \n",
      "2              GCST000388                  19419973.0                  NaN   \n",
      "3            GCST000493_3                  19798445.0                  NaN   \n",
      "4              GCST000568                  20081858.0                  NaN   \n",
      "5              GCST000697                  20541252.0                  NaN   \n",
      "6              GCST000697                  20541252.0                  NaN   \n",
      "7              GCST000697                  20541252.0                  NaN   \n",
      "8              GCST000703                  20558539.0                  NaN   \n",
      "9              GCST000703                  20558539.0                  NaN   \n",
      "\n",
      "  gold_standard_info.evidence.class gold_standard_info.evidence.confidence  \\\n",
      "0                    expert curated                                   High   \n",
      "1                    expert curated                                   High   \n",
      "2                    expert curated                                   High   \n",
      "3                    expert curated                                   High   \n",
      "4                    expert curated                                   High   \n",
      "5                    expert curated                                   High   \n",
      "6                    expert curated                                   High   \n",
      "7                    expert curated                                   High   \n",
      "8                    expert curated                                   High   \n",
      "9                    expert curated                                   High   \n",
      "\n",
      "  gold_standard_info.evidence.curated_by  ...  \\\n",
      "0                            Eric Fauman  ...   \n",
      "1                            Eric Fauman  ...   \n",
      "2                            Eric Fauman  ...   \n",
      "3                            Eric Fauman  ...   \n",
      "4                            Eric Fauman  ...   \n",
      "5                            Eric Fauman  ...   \n",
      "6                            Eric Fauman  ...   \n",
      "7                            Eric Fauman  ...   \n",
      "8                            Eric Fauman  ...   \n",
      "9                            Eric Fauman  ...   \n",
      "\n",
      "  sentinel_variant.alleles.alternative sentinel_variant.alleles.reference  \\\n",
      "0                                    G                                  T   \n",
      "1                                    T                                  G   \n",
      "2                                    G                                  C   \n",
      "3                                    T                                  G   \n",
      "4                                    C                                  T   \n",
      "5                                    G                                  T   \n",
      "6                                    G                                  A   \n",
      "7                                    T                                  G   \n",
      "8                                    T                                  C   \n",
      "9                                    A                                  T   \n",
      "\n",
      "  sentinel_variant.locus_GRCh37.chromosome  \\\n",
      "0                                       16   \n",
      "1                                        2   \n",
      "2                                        X   \n",
      "3                                       14   \n",
      "4                                        2   \n",
      "5                                        4   \n",
      "6                                       11   \n",
      "7                                       11   \n",
      "8                                        1   \n",
      "9                                       12   \n",
      "\n",
      "  sentinel_variant.locus_GRCh37.position  \\\n",
      "0                               81264597   \n",
      "1                              234672639   \n",
      "2                              153554404   \n",
      "3                               64235556   \n",
      "4                              169763148   \n",
      "5                               72608383   \n",
      "6                               14914878   \n",
      "7                               71167449   \n",
      "8                               21823292   \n",
      "9                                4606168   \n",
      "\n",
      "  sentinel_variant.locus_GRCh38.chromosome  \\\n",
      "0                                       16   \n",
      "1                                        2   \n",
      "2                                        X   \n",
      "3                                       14   \n",
      "4                                        2   \n",
      "5                                        4   \n",
      "6                                       11   \n",
      "7                                       11   \n",
      "8                                        1   \n",
      "9                                       12   \n",
      "\n",
      "  sentinel_variant.locus_GRCh38.position sentinel_variant.rsid  \\\n",
      "0                               81230992             rs6564851   \n",
      "1                              233763993             rs6742078   \n",
      "2                              154326058              rs766420   \n",
      "3                               63768838             rs7157785   \n",
      "4                              168906638              rs560887   \n",
      "5                               71742666             rs2282679   \n",
      "6                               14893332            rs10741657   \n",
      "7                               71456403            rs12785878   \n",
      "8                               21496799             rs1697421   \n",
      "9                                4497002             rs2970818   \n",
      "\n",
      "  trait_info.ontology                    trait_info.reported_trait_name  \\\n",
      "0         HMDB0000561  Carotenoid and tocopherol levels (beta-carotene)   \n",
      "1         HMDB0000054                                  Bilirubin levels   \n",
      "2         HMDB0000054                                  Bilirubin levels   \n",
      "3         HMDB0012097                 Sphingolipid levels (SM 14:0Mol%)   \n",
      "4         HMDB0000122              Fasting glucose-related traits (FPG)   \n",
      "5         HMDB0001438                           Vitamin D insufficiency   \n",
      "6         HMDB0001438                           Vitamin D insufficiency   \n",
      "7         HMDB0001438                           Vitamin D insufficiency   \n",
      "8         HMDB0001315                                 Phosphorus levels   \n",
      "9         HMDB0001315                                 Phosphorus levels   \n",
      "\n",
      "        trait_info.standard_trait_name  \n",
      "0                           B-Carotene  \n",
      "1                            Bilirubin  \n",
      "2                            Bilirubin  \n",
      "3  sphingomyelin 14∶0 molar percentage  \n",
      "4                            D-Glucose  \n",
      "5                 25-Hydroxyvitamin D2  \n",
      "6                 25-Hydroxyvitamin D2  \n",
      "7                 25-Hydroxyvitamin D2  \n",
      "8                           Phosphorus  \n",
      "9                           Phosphorus  \n",
      "\n",
      "[10 rows x 31 columns]\n"
     ]
    }
   ],
   "source": [
    "print(gs_data.columns.tolist())\n",
    "print(gs_data.head(10))"
   ]
  },
  {
   "cell_type": "code",
   "execution_count": 7,
   "id": "3f894d78-5889-4610-8a3a-df4277262cc8",
   "metadata": {},
   "outputs": [
    {
     "name": "stdout",
     "output_type": "stream",
     "text": [
      "Using new features and target.\n",
      "Data preprocessed successfully. Target 'High' confidence is mapped to 1.\n"
     ]
    }
   ],
   "source": [
    "# --- 1. Define New Features and Target ---\n",
    "# We select columns that exist in your new data file\n",
    "features = [\n",
    "    'association_info.neg_log_pval',\n",
    "    'sentinel_variant.locus_GRCh37.position'\n",
    "]\n",
    "\n",
    "# Our new target column is the confidence level\n",
    "target_col = 'gold_standard_info.evidence.confidence'\n",
    "\n",
    "print(\"Using new features and target.\")\n",
    "\n",
    "# --- 2. Preprocessing ---\n",
    "# Create a dataframe with only the columns we need\n",
    "model_df = gs_data[features + [target_col]].copy()\n",
    "\n",
    "# Handle missing values in numeric feature columns\n",
    "model_df.fillna(0, inplace=True)\n",
    "\n",
    "# Create a binary target variable: 1 if confidence is 'High', 0 otherwise\n",
    "# This is what our model will try to predict\n",
    "model_df['target'] = (model_df[target_col] == 'High').astype(int)\n",
    "\n",
    "print(\"Data preprocessed successfully. Target 'High' confidence is mapped to 1.\")"
   ]
  },
  {
   "cell_type": "code",
   "execution_count": 8,
   "id": "86a01ef1-f91b-4989-b05a-0fcb2bebd6ad",
   "metadata": {},
   "outputs": [
    {
     "name": "stdout",
     "output_type": "stream",
     "text": [
      "XGBoost model trained successfully!\n"
     ]
    },
    {
     "name": "stderr",
     "output_type": "stream",
     "text": [
      "C:\\Users\\epcm\\anaconda3\\envs\\xai_env\\lib\\site-packages\\xgboost\\core.py:158: UserWarning: [12:33:06] WARNING: D:\\bld\\xgboost-split_1744329010901\\work\\src\\learner.cc:740: \n",
      "Parameters: { \"use_label_encoder\" } are not used.\n",
      "\n",
      "  warnings.warn(smsg, UserWarning)\n"
     ]
    }
   ],
   "source": [
    "# --- 3. Split Data and Train the XGBoost model ---\n",
    "# Use the new features and the new binary 'target' column\n",
    "X = model_df[features]\n",
    "y = model_df['target']\n",
    "\n",
    "X_train, X_test, y_train, y_test = train_test_split(X, y, test_size=0.2, random_state=42, stratify=y)\n",
    "\n",
    "l2g_model = xgb.XGBClassifier(objective='binary:logistic', use_label_encoder=False, eval_metric='logloss')\n",
    "l2g_model.fit(X_train, y_train)\n",
    "\n",
    "print(\"XGBoost model trained successfully!\")"
   ]
  },
  {
   "cell_type": "code",
   "execution_count": 1,
   "id": "3e34962f-1a3a-4c15-86b2-d249b0096f29",
   "metadata": {},
   "outputs": [
    {
     "ename": "NameError",
     "evalue": "name 'joblib' is not defined",
     "output_type": "error",
     "traceback": [
      "\u001b[31m---------------------------------------------------------------------------\u001b[39m",
      "\u001b[31mNameError\u001b[39m                                 Traceback (most recent call last)",
      "\u001b[36mCell\u001b[39m\u001b[36m \u001b[39m\u001b[32mIn[1]\u001b[39m\u001b[32m, line 3\u001b[39m\n\u001b[32m      1\u001b[39m \u001b[38;5;66;03m# --- 4. Save the trained model and test data ---\u001b[39;00m\n\u001b[32m      2\u001b[39m model_filename = \u001b[33m'\u001b[39m\u001b[33ml2g_xgboost_model.joblib\u001b[39m\u001b[33m'\u001b[39m\n\u001b[32m----> \u001b[39m\u001b[32m3\u001b[39m \u001b[43mjoblib\u001b[49m.dump(l2g_model, model_filename)\n\u001b[32m      5\u001b[39m X_test.to_csv(\u001b[33m'\u001b[39m\u001b[33mX_test_data.csv\u001b[39m\u001b[33m'\u001b[39m, index=\u001b[38;5;28;01mFalse\u001b[39;00m)\n\u001b[32m      6\u001b[39m y_test.to_csv(\u001b[33m'\u001b[39m\u001b[33my_test_data.csv\u001b[39m\u001b[33m'\u001b[39m, index=\u001b[38;5;28;01mFalse\u001b[39;00m)\n",
      "\u001b[31mNameError\u001b[39m: name 'joblib' is not defined"
     ]
    }
   ],
   "source": [
    "# --- 4. Save the trained model and test data ---\n",
    "model_filename = 'l2g_xgboost_model.joblib'\n",
    "joblib.dump(l2g_model, model_filename)\n",
    "\n",
    "X_test.to_csv('X_test_data.csv', index=False)\n",
    "y_test.to_csv('y_test_data.csv', index=False)\n",
    "\n",
    "print(f\"Trained model saved to '{model_filename}'\")\n",
    "print(\"Test data saved for later use.\")\n",
    "print(\"\\nSetup complete! You are now ready for the XAI analysis.\")"
   ]
  },
  {
   "cell_type": "code",
   "execution_count": null,
   "id": "ba8f96ff-0318-4cee-9353-f195dd88fd24",
   "metadata": {},
   "outputs": [],
   "source": []
  }
 ],
 "metadata": {
  "kernelspec": {
   "display_name": "Python 3",
   "language": "python",
   "name": "python3"
  },
  "language_info": {
   "codemirror_mode": {
    "name": "ipython",
    "version": 3
   },
   "file_extension": ".py",
   "mimetype": "text/x-python",
   "name": "python",
   "nbconvert_exporter": "python",
   "pygments_lexer": "ipython3",
   "version": "3.12.2"
  }
 },
 "nbformat": 4,
 "nbformat_minor": 5
}
