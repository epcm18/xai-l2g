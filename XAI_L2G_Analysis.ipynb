{
 "cells": [
  {
   "cell_type": "code",
   "execution_count": 6,
   "id": "e1349a1c",
   "metadata": {},
   "outputs": [
    {
     "name": "stdout",
     "output_type": "stream",
     "text": [
      "🔹 Kernel interpreter: /opt/homebrew/opt/python@3.12/bin/python3.12\n",
      "🔹 Python version    : 3.12.9\n",
      "\n",
      "Top-few rows of pip list for this interpreter:\n",
      "[{\"name\": \"appnope\", \"version\": \"0.1.4\"}, {\"name\": \"asttokens\", \"version\": \"3.0.0\"}, {\"name\": \"certifi\", \"version\": \"2024.12.14\"}, {\"name\": \"comm\", \"version\": \"0.2.2\"}, {\"name\": \"debugpy\", \"version\": \"1.8.14\"}, {\"name\": \"decorator\", \"version\": \"5.2.1\"}, {\"name\": \"executing\", \"version\": \"2.2.0\"}, {\"name\": \"ipykernel\", \"version\": \"6.29.5\"}, {\"name\": \"ipython\", \"version\": \"9.4.0\"}, {\"name\": \"ipython_pygments_lexers\", \"version\": \"1.1.1\"}, {\"name\": \"jedi\", \"version\": \"0.19.2\"}, {\"name\": \"jupyter_client\", \"version\": \"8.6.3\"}, {\"name\": \"jupyter_core\", \"version\": \"5.8.1\"}, {\"name\": \"matplotlib-inline\", \"version\": \"0.1.7\"}, {\"name\": \"nest-asyncio\", \"version\": \"1.6.0\"}, {\"name\": \"packaging\", \"version\": \"25.0\"}, {\"name\": \"parso\", \"version\": \"0.8.4\"}, {\"name\": \"pexpect\", \"version\": \"4.9.0\"}, {\"name\": \"pip\", \"version\": \"25.0\"}, {\"name\": \"platformdirs\", \"version\": \"4.3.8\"}, {\"name\": \"prompt_toolkit\", \"version\": \"3.0.51\"}, {\"name\": \"psutil\", \"version\": \"7.0.0\"}, {\"name\": \"ptyprocess\", \"version\": \"0.7.0\"}, {\"name\": \"pure_eval\", \"version\": \"0.2.3\"}, {\"name\": \"Pygments\", \"version\": \"2.19.2\"}, {\"name\": \"python-dateutil\", \"version\": \"2.9.0.post0\"}, {\"name\": \"pyzmq\", \"version\": \"27.0.0\"}, {\"name\": \"six\", \"version\": \"1.17.0\"}, {\"name\": \"stack-data\", \"version\": \"0.6.3\"}, {\"name\": \"tornado\", \"version\": \"6.5.1\"}, {\"name\": \"traitlets\", \"version\": \"5.14.3\"}, {\"name\": \"wcwidth\", \"version\": \"0.2.13\"}, {\"name\": \"wheel\", \"version\": \"0.45.1\"}]\n"
     ]
    },
    {
     "data": {
      "text/plain": [
       "CompletedProcess(args=['/opt/homebrew/opt/python@3.12/bin/python3.12', '-m', 'pip', 'list', '--format=json', '--disable-pip-version-check'], returncode=0)"
      ]
     },
     "execution_count": 6,
     "metadata": {},
     "output_type": "execute_result"
    }
   ],
   "source": [
    "import sys, platform, subprocess, json, pathlib\n",
    "print(\"🔹 Kernel interpreter:\", sys.executable)\n",
    "print(\"🔹 Python version    :\", platform.python_version())\n",
    "\n",
    "# What packages does *this* interpreter know?\n",
    "print(\"\\nTop-few rows of pip list for this interpreter:\")\n",
    "subprocess.run([sys.executable, \"-m\", \"pip\", \"list\", \"--format=json\", \"--disable-pip-version-check\"],\n",
    "               capture_output=False, text=True, check=True)\n"
   ]
  },
  {
   "cell_type": "code",
   "execution_count": 3,
   "id": "7aff0616-28a0-4d54-b345-c5f4b29c6035",
   "metadata": {},
   "outputs": [
    {
     "name": "stdout",
     "output_type": "stream",
     "text": [
      "Libraries imported successfully!\n"
     ]
    }
   ],
   "source": [
    "# --- 1. Import necessary libraries ---\n",
    "import pandas as pd\n",
    "import xgboost as xgb\n",
    "import joblib\n",
    "from sklearn.model_selection import train_test_split\n",
    "from sklearn.preprocessing import LabelEncoder\n",
    "\n",
    "print(\"Libraries imported successfully!\")"
   ]
  },
  {
   "cell_type": "code",
   "execution_count": 4,
   "id": "57ea3f48-c1c3-4c67-ae10-e45b87444f0b",
   "metadata": {},
   "outputs": [
    {
     "ename": "FileNotFoundError",
     "evalue": "[Errno 2] No such file or directory: 'genetics-gold-standards/gold_standards/processed/gwas_gold_standards.191108.tsv'",
     "output_type": "error",
     "traceback": [
      "\u001b[31m---------------------------------------------------------------------------\u001b[39m",
      "\u001b[31mFileNotFoundError\u001b[39m                         Traceback (most recent call last)",
      "\u001b[36mCell\u001b[39m\u001b[36m \u001b[39m\u001b[32mIn[4]\u001b[39m\u001b[32m, line 3\u001b[39m\n\u001b[32m      1\u001b[39m \u001b[38;5;66;03m# The path is relative to where your notebook is located\u001b[39;00m\n\u001b[32m      2\u001b[39m data_path = \u001b[33m'\u001b[39m\u001b[33mgenetics-gold-standards/gold_standards/processed/gwas_gold_standards.191108.tsv\u001b[39m\u001b[33m'\u001b[39m\n\u001b[32m----> \u001b[39m\u001b[32m3\u001b[39m gs_data = \u001b[43mpd\u001b[49m\u001b[43m.\u001b[49m\u001b[43mread_csv\u001b[49m\u001b[43m(\u001b[49m\u001b[43mdata_path\u001b[49m\u001b[43m,\u001b[49m\u001b[43m \u001b[49m\u001b[43msep\u001b[49m\u001b[43m=\u001b[49m\u001b[33;43m'\u001b[39;49m\u001b[38;5;130;43;01m\\t\u001b[39;49;00m\u001b[33;43m'\u001b[39;49m\u001b[43m)\u001b[49m\n\u001b[32m      5\u001b[39m \u001b[38;5;28mprint\u001b[39m(\u001b[33mf\u001b[39m\u001b[33m\"\u001b[39m\u001b[33mData loaded from \u001b[39m\u001b[33m'\u001b[39m\u001b[38;5;132;01m{\u001b[39;00mdata_path\u001b[38;5;132;01m}\u001b[39;00m\u001b[33m'\u001b[39m\u001b[33m. Shape: \u001b[39m\u001b[38;5;132;01m{\u001b[39;00mgs_data.shape\u001b[38;5;132;01m}\u001b[39;00m\u001b[33m\"\u001b[39m)\n",
      "\u001b[36mFile \u001b[39m\u001b[32m~/.local/share/virtualenvs/Ice_Breaker-AMUHNgEG/lib/python3.12/site-packages/pandas/io/parsers/readers.py:1026\u001b[39m, in \u001b[36mread_csv\u001b[39m\u001b[34m(filepath_or_buffer, sep, delimiter, header, names, index_col, usecols, dtype, engine, converters, true_values, false_values, skipinitialspace, skiprows, skipfooter, nrows, na_values, keep_default_na, na_filter, verbose, skip_blank_lines, parse_dates, infer_datetime_format, keep_date_col, date_parser, date_format, dayfirst, cache_dates, iterator, chunksize, compression, thousands, decimal, lineterminator, quotechar, quoting, doublequote, escapechar, comment, encoding, encoding_errors, dialect, on_bad_lines, delim_whitespace, low_memory, memory_map, float_precision, storage_options, dtype_backend)\u001b[39m\n\u001b[32m   1013\u001b[39m kwds_defaults = _refine_defaults_read(\n\u001b[32m   1014\u001b[39m     dialect,\n\u001b[32m   1015\u001b[39m     delimiter,\n\u001b[32m   (...)\u001b[39m\u001b[32m   1022\u001b[39m     dtype_backend=dtype_backend,\n\u001b[32m   1023\u001b[39m )\n\u001b[32m   1024\u001b[39m kwds.update(kwds_defaults)\n\u001b[32m-> \u001b[39m\u001b[32m1026\u001b[39m \u001b[38;5;28;01mreturn\u001b[39;00m \u001b[43m_read\u001b[49m\u001b[43m(\u001b[49m\u001b[43mfilepath_or_buffer\u001b[49m\u001b[43m,\u001b[49m\u001b[43m \u001b[49m\u001b[43mkwds\u001b[49m\u001b[43m)\u001b[49m\n",
      "\u001b[36mFile \u001b[39m\u001b[32m~/.local/share/virtualenvs/Ice_Breaker-AMUHNgEG/lib/python3.12/site-packages/pandas/io/parsers/readers.py:620\u001b[39m, in \u001b[36m_read\u001b[39m\u001b[34m(filepath_or_buffer, kwds)\u001b[39m\n\u001b[32m    617\u001b[39m _validate_names(kwds.get(\u001b[33m\"\u001b[39m\u001b[33mnames\u001b[39m\u001b[33m\"\u001b[39m, \u001b[38;5;28;01mNone\u001b[39;00m))\n\u001b[32m    619\u001b[39m \u001b[38;5;66;03m# Create the parser.\u001b[39;00m\n\u001b[32m--> \u001b[39m\u001b[32m620\u001b[39m parser = \u001b[43mTextFileReader\u001b[49m\u001b[43m(\u001b[49m\u001b[43mfilepath_or_buffer\u001b[49m\u001b[43m,\u001b[49m\u001b[43m \u001b[49m\u001b[43m*\u001b[49m\u001b[43m*\u001b[49m\u001b[43mkwds\u001b[49m\u001b[43m)\u001b[49m\n\u001b[32m    622\u001b[39m \u001b[38;5;28;01mif\u001b[39;00m chunksize \u001b[38;5;129;01mor\u001b[39;00m iterator:\n\u001b[32m    623\u001b[39m     \u001b[38;5;28;01mreturn\u001b[39;00m parser\n",
      "\u001b[36mFile \u001b[39m\u001b[32m~/.local/share/virtualenvs/Ice_Breaker-AMUHNgEG/lib/python3.12/site-packages/pandas/io/parsers/readers.py:1620\u001b[39m, in \u001b[36mTextFileReader.__init__\u001b[39m\u001b[34m(self, f, engine, **kwds)\u001b[39m\n\u001b[32m   1617\u001b[39m     \u001b[38;5;28mself\u001b[39m.options[\u001b[33m\"\u001b[39m\u001b[33mhas_index_names\u001b[39m\u001b[33m\"\u001b[39m] = kwds[\u001b[33m\"\u001b[39m\u001b[33mhas_index_names\u001b[39m\u001b[33m\"\u001b[39m]\n\u001b[32m   1619\u001b[39m \u001b[38;5;28mself\u001b[39m.handles: IOHandles | \u001b[38;5;28;01mNone\u001b[39;00m = \u001b[38;5;28;01mNone\u001b[39;00m\n\u001b[32m-> \u001b[39m\u001b[32m1620\u001b[39m \u001b[38;5;28mself\u001b[39m._engine = \u001b[38;5;28;43mself\u001b[39;49m\u001b[43m.\u001b[49m\u001b[43m_make_engine\u001b[49m\u001b[43m(\u001b[49m\u001b[43mf\u001b[49m\u001b[43m,\u001b[49m\u001b[43m \u001b[49m\u001b[38;5;28;43mself\u001b[39;49m\u001b[43m.\u001b[49m\u001b[43mengine\u001b[49m\u001b[43m)\u001b[49m\n",
      "\u001b[36mFile \u001b[39m\u001b[32m~/.local/share/virtualenvs/Ice_Breaker-AMUHNgEG/lib/python3.12/site-packages/pandas/io/parsers/readers.py:1880\u001b[39m, in \u001b[36mTextFileReader._make_engine\u001b[39m\u001b[34m(self, f, engine)\u001b[39m\n\u001b[32m   1878\u001b[39m     \u001b[38;5;28;01mif\u001b[39;00m \u001b[33m\"\u001b[39m\u001b[33mb\u001b[39m\u001b[33m\"\u001b[39m \u001b[38;5;129;01mnot\u001b[39;00m \u001b[38;5;129;01min\u001b[39;00m mode:\n\u001b[32m   1879\u001b[39m         mode += \u001b[33m\"\u001b[39m\u001b[33mb\u001b[39m\u001b[33m\"\u001b[39m\n\u001b[32m-> \u001b[39m\u001b[32m1880\u001b[39m \u001b[38;5;28mself\u001b[39m.handles = \u001b[43mget_handle\u001b[49m\u001b[43m(\u001b[49m\n\u001b[32m   1881\u001b[39m \u001b[43m    \u001b[49m\u001b[43mf\u001b[49m\u001b[43m,\u001b[49m\n\u001b[32m   1882\u001b[39m \u001b[43m    \u001b[49m\u001b[43mmode\u001b[49m\u001b[43m,\u001b[49m\n\u001b[32m   1883\u001b[39m \u001b[43m    \u001b[49m\u001b[43mencoding\u001b[49m\u001b[43m=\u001b[49m\u001b[38;5;28;43mself\u001b[39;49m\u001b[43m.\u001b[49m\u001b[43moptions\u001b[49m\u001b[43m.\u001b[49m\u001b[43mget\u001b[49m\u001b[43m(\u001b[49m\u001b[33;43m\"\u001b[39;49m\u001b[33;43mencoding\u001b[39;49m\u001b[33;43m\"\u001b[39;49m\u001b[43m,\u001b[49m\u001b[43m \u001b[49m\u001b[38;5;28;43;01mNone\u001b[39;49;00m\u001b[43m)\u001b[49m\u001b[43m,\u001b[49m\n\u001b[32m   1884\u001b[39m \u001b[43m    \u001b[49m\u001b[43mcompression\u001b[49m\u001b[43m=\u001b[49m\u001b[38;5;28;43mself\u001b[39;49m\u001b[43m.\u001b[49m\u001b[43moptions\u001b[49m\u001b[43m.\u001b[49m\u001b[43mget\u001b[49m\u001b[43m(\u001b[49m\u001b[33;43m\"\u001b[39;49m\u001b[33;43mcompression\u001b[39;49m\u001b[33;43m\"\u001b[39;49m\u001b[43m,\u001b[49m\u001b[43m \u001b[49m\u001b[38;5;28;43;01mNone\u001b[39;49;00m\u001b[43m)\u001b[49m\u001b[43m,\u001b[49m\n\u001b[32m   1885\u001b[39m \u001b[43m    \u001b[49m\u001b[43mmemory_map\u001b[49m\u001b[43m=\u001b[49m\u001b[38;5;28;43mself\u001b[39;49m\u001b[43m.\u001b[49m\u001b[43moptions\u001b[49m\u001b[43m.\u001b[49m\u001b[43mget\u001b[49m\u001b[43m(\u001b[49m\u001b[33;43m\"\u001b[39;49m\u001b[33;43mmemory_map\u001b[39;49m\u001b[33;43m\"\u001b[39;49m\u001b[43m,\u001b[49m\u001b[43m \u001b[49m\u001b[38;5;28;43;01mFalse\u001b[39;49;00m\u001b[43m)\u001b[49m\u001b[43m,\u001b[49m\n\u001b[32m   1886\u001b[39m \u001b[43m    \u001b[49m\u001b[43mis_text\u001b[49m\u001b[43m=\u001b[49m\u001b[43mis_text\u001b[49m\u001b[43m,\u001b[49m\n\u001b[32m   1887\u001b[39m \u001b[43m    \u001b[49m\u001b[43merrors\u001b[49m\u001b[43m=\u001b[49m\u001b[38;5;28;43mself\u001b[39;49m\u001b[43m.\u001b[49m\u001b[43moptions\u001b[49m\u001b[43m.\u001b[49m\u001b[43mget\u001b[49m\u001b[43m(\u001b[49m\u001b[33;43m\"\u001b[39;49m\u001b[33;43mencoding_errors\u001b[39;49m\u001b[33;43m\"\u001b[39;49m\u001b[43m,\u001b[49m\u001b[43m \u001b[49m\u001b[33;43m\"\u001b[39;49m\u001b[33;43mstrict\u001b[39;49m\u001b[33;43m\"\u001b[39;49m\u001b[43m)\u001b[49m\u001b[43m,\u001b[49m\n\u001b[32m   1888\u001b[39m \u001b[43m    \u001b[49m\u001b[43mstorage_options\u001b[49m\u001b[43m=\u001b[49m\u001b[38;5;28;43mself\u001b[39;49m\u001b[43m.\u001b[49m\u001b[43moptions\u001b[49m\u001b[43m.\u001b[49m\u001b[43mget\u001b[49m\u001b[43m(\u001b[49m\u001b[33;43m\"\u001b[39;49m\u001b[33;43mstorage_options\u001b[39;49m\u001b[33;43m\"\u001b[39;49m\u001b[43m,\u001b[49m\u001b[43m \u001b[49m\u001b[38;5;28;43;01mNone\u001b[39;49;00m\u001b[43m)\u001b[49m\u001b[43m,\u001b[49m\n\u001b[32m   1889\u001b[39m \u001b[43m\u001b[49m\u001b[43m)\u001b[49m\n\u001b[32m   1890\u001b[39m \u001b[38;5;28;01massert\u001b[39;00m \u001b[38;5;28mself\u001b[39m.handles \u001b[38;5;129;01mis\u001b[39;00m \u001b[38;5;129;01mnot\u001b[39;00m \u001b[38;5;28;01mNone\u001b[39;00m\n\u001b[32m   1891\u001b[39m f = \u001b[38;5;28mself\u001b[39m.handles.handle\n",
      "\u001b[36mFile \u001b[39m\u001b[32m~/.local/share/virtualenvs/Ice_Breaker-AMUHNgEG/lib/python3.12/site-packages/pandas/io/common.py:873\u001b[39m, in \u001b[36mget_handle\u001b[39m\u001b[34m(path_or_buf, mode, encoding, compression, memory_map, is_text, errors, storage_options)\u001b[39m\n\u001b[32m    868\u001b[39m \u001b[38;5;28;01melif\u001b[39;00m \u001b[38;5;28misinstance\u001b[39m(handle, \u001b[38;5;28mstr\u001b[39m):\n\u001b[32m    869\u001b[39m     \u001b[38;5;66;03m# Check whether the filename is to be opened in binary mode.\u001b[39;00m\n\u001b[32m    870\u001b[39m     \u001b[38;5;66;03m# Binary mode does not support 'encoding' and 'newline'.\u001b[39;00m\n\u001b[32m    871\u001b[39m     \u001b[38;5;28;01mif\u001b[39;00m ioargs.encoding \u001b[38;5;129;01mand\u001b[39;00m \u001b[33m\"\u001b[39m\u001b[33mb\u001b[39m\u001b[33m\"\u001b[39m \u001b[38;5;129;01mnot\u001b[39;00m \u001b[38;5;129;01min\u001b[39;00m ioargs.mode:\n\u001b[32m    872\u001b[39m         \u001b[38;5;66;03m# Encoding\u001b[39;00m\n\u001b[32m--> \u001b[39m\u001b[32m873\u001b[39m         handle = \u001b[38;5;28;43mopen\u001b[39;49m\u001b[43m(\u001b[49m\n\u001b[32m    874\u001b[39m \u001b[43m            \u001b[49m\u001b[43mhandle\u001b[49m\u001b[43m,\u001b[49m\n\u001b[32m    875\u001b[39m \u001b[43m            \u001b[49m\u001b[43mioargs\u001b[49m\u001b[43m.\u001b[49m\u001b[43mmode\u001b[49m\u001b[43m,\u001b[49m\n\u001b[32m    876\u001b[39m \u001b[43m            \u001b[49m\u001b[43mencoding\u001b[49m\u001b[43m=\u001b[49m\u001b[43mioargs\u001b[49m\u001b[43m.\u001b[49m\u001b[43mencoding\u001b[49m\u001b[43m,\u001b[49m\n\u001b[32m    877\u001b[39m \u001b[43m            \u001b[49m\u001b[43merrors\u001b[49m\u001b[43m=\u001b[49m\u001b[43merrors\u001b[49m\u001b[43m,\u001b[49m\n\u001b[32m    878\u001b[39m \u001b[43m            \u001b[49m\u001b[43mnewline\u001b[49m\u001b[43m=\u001b[49m\u001b[33;43m\"\u001b[39;49m\u001b[33;43m\"\u001b[39;49m\u001b[43m,\u001b[49m\n\u001b[32m    879\u001b[39m \u001b[43m        \u001b[49m\u001b[43m)\u001b[49m\n\u001b[32m    880\u001b[39m     \u001b[38;5;28;01melse\u001b[39;00m:\n\u001b[32m    881\u001b[39m         \u001b[38;5;66;03m# Binary mode\u001b[39;00m\n\u001b[32m    882\u001b[39m         handle = \u001b[38;5;28mopen\u001b[39m(handle, ioargs.mode)\n",
      "\u001b[31mFileNotFoundError\u001b[39m: [Errno 2] No such file or directory: 'genetics-gold-standards/gold_standards/processed/gwas_gold_standards.191108.tsv'"
     ]
    }
   ],
   "source": [
    "# The path is relative to where your notebook is located\n",
    "data_path = 'genetics-gold-standards/gold_standards/processed/gwas_gold_standards.191108.tsv'\n",
    "gs_data = pd.read_csv(data_path, sep='\\t')\n",
    "\n",
    "print(f\"Data loaded from '{data_path}'. Shape: {gs_data.shape}\")"
   ]
  },
  {
   "cell_type": "code",
   "execution_count": 6,
   "id": "01912d58-790f-40f0-bbfc-9792c99f6a09",
   "metadata": {},
   "outputs": [
    {
     "name": "stdout",
     "output_type": "stream",
     "text": [
      "['association_info.ancestry', 'association_info.doi', 'association_info.gwas_catalog_id', 'association_info.neg_log_pval', 'association_info.otg_id', 'association_info.pubmed_id', 'association_info.url', 'gold_standard_info.evidence.class', 'gold_standard_info.evidence.confidence', 'gold_standard_info.evidence.curated_by', 'gold_standard_info.evidence.description', 'gold_standard_info.evidence.pubmed_id', 'gold_standard_info.evidence.source', 'gold_standard_info.gene_id', 'gold_standard_info.highest_confidence', 'metadata.comments', 'metadata.date_added', 'metadata.reviewed_by', 'metadata.set_label', 'metadata.submitted_by', 'metadata.tags', 'sentinel_variant.alleles.alternative', 'sentinel_variant.alleles.reference', 'sentinel_variant.locus_GRCh37.chromosome', 'sentinel_variant.locus_GRCh37.position', 'sentinel_variant.locus_GRCh38.chromosome', 'sentinel_variant.locus_GRCh38.position', 'sentinel_variant.rsid', 'trait_info.ontology', 'trait_info.reported_trait_name', 'trait_info.standard_trait_name']\n",
      "  association_info.ancestry association_info.doi  \\\n",
      "0                       EUR                  NaN   \n",
      "1                   unknown                  NaN   \n",
      "2                   ASW|EUR                  NaN   \n",
      "3                       EUR                  NaN   \n",
      "4                       EUR                  NaN   \n",
      "5                       EUR                  NaN   \n",
      "6                       EUR                  NaN   \n",
      "7                       EUR                  NaN   \n",
      "8                       EUR                  NaN   \n",
      "9                       EUR                  NaN   \n",
      "\n",
      "  association_info.gwas_catalog_id  association_info.neg_log_pval  \\\n",
      "0                       GCST000324                         23.699   \n",
      "1                       GCST000386                        323.301   \n",
      "2                       GCST000388                          8.046   \n",
      "3                       GCST000493                         65.046   \n",
      "4                       GCST000568                        217.046   \n",
      "5                       GCST000697                        108.699   \n",
      "6                       GCST000697                         19.523   \n",
      "7                       GCST000697                         26.699   \n",
      "8                       GCST000703                         27.000   \n",
      "9                       GCST000703                          8.398   \n",
      "\n",
      "  association_info.otg_id  association_info.pubmed_id association_info.url  \\\n",
      "0            GCST000324_3                  19185284.0                  NaN   \n",
      "1              GCST000386                  19414484.0                  NaN   \n",
      "2              GCST000388                  19419973.0                  NaN   \n",
      "3            GCST000493_3                  19798445.0                  NaN   \n",
      "4              GCST000568                  20081858.0                  NaN   \n",
      "5              GCST000697                  20541252.0                  NaN   \n",
      "6              GCST000697                  20541252.0                  NaN   \n",
      "7              GCST000697                  20541252.0                  NaN   \n",
      "8              GCST000703                  20558539.0                  NaN   \n",
      "9              GCST000703                  20558539.0                  NaN   \n",
      "\n",
      "  gold_standard_info.evidence.class gold_standard_info.evidence.confidence  \\\n",
      "0                    expert curated                                   High   \n",
      "1                    expert curated                                   High   \n",
      "2                    expert curated                                   High   \n",
      "3                    expert curated                                   High   \n",
      "4                    expert curated                                   High   \n",
      "5                    expert curated                                   High   \n",
      "6                    expert curated                                   High   \n",
      "7                    expert curated                                   High   \n",
      "8                    expert curated                                   High   \n",
      "9                    expert curated                                   High   \n",
      "\n",
      "  gold_standard_info.evidence.curated_by  ...  \\\n",
      "0                            Eric Fauman  ...   \n",
      "1                            Eric Fauman  ...   \n",
      "2                            Eric Fauman  ...   \n",
      "3                            Eric Fauman  ...   \n",
      "4                            Eric Fauman  ...   \n",
      "5                            Eric Fauman  ...   \n",
      "6                            Eric Fauman  ...   \n",
      "7                            Eric Fauman  ...   \n",
      "8                            Eric Fauman  ...   \n",
      "9                            Eric Fauman  ...   \n",
      "\n",
      "  sentinel_variant.alleles.alternative sentinel_variant.alleles.reference  \\\n",
      "0                                    G                                  T   \n",
      "1                                    T                                  G   \n",
      "2                                    G                                  C   \n",
      "3                                    T                                  G   \n",
      "4                                    C                                  T   \n",
      "5                                    G                                  T   \n",
      "6                                    G                                  A   \n",
      "7                                    T                                  G   \n",
      "8                                    T                                  C   \n",
      "9                                    A                                  T   \n",
      "\n",
      "  sentinel_variant.locus_GRCh37.chromosome  \\\n",
      "0                                       16   \n",
      "1                                        2   \n",
      "2                                        X   \n",
      "3                                       14   \n",
      "4                                        2   \n",
      "5                                        4   \n",
      "6                                       11   \n",
      "7                                       11   \n",
      "8                                        1   \n",
      "9                                       12   \n",
      "\n",
      "  sentinel_variant.locus_GRCh37.position  \\\n",
      "0                               81264597   \n",
      "1                              234672639   \n",
      "2                              153554404   \n",
      "3                               64235556   \n",
      "4                              169763148   \n",
      "5                               72608383   \n",
      "6                               14914878   \n",
      "7                               71167449   \n",
      "8                               21823292   \n",
      "9                                4606168   \n",
      "\n",
      "  sentinel_variant.locus_GRCh38.chromosome  \\\n",
      "0                                       16   \n",
      "1                                        2   \n",
      "2                                        X   \n",
      "3                                       14   \n",
      "4                                        2   \n",
      "5                                        4   \n",
      "6                                       11   \n",
      "7                                       11   \n",
      "8                                        1   \n",
      "9                                       12   \n",
      "\n",
      "  sentinel_variant.locus_GRCh38.position sentinel_variant.rsid  \\\n",
      "0                               81230992             rs6564851   \n",
      "1                              233763993             rs6742078   \n",
      "2                              154326058              rs766420   \n",
      "3                               63768838             rs7157785   \n",
      "4                              168906638              rs560887   \n",
      "5                               71742666             rs2282679   \n",
      "6                               14893332            rs10741657   \n",
      "7                               71456403            rs12785878   \n",
      "8                               21496799             rs1697421   \n",
      "9                                4497002             rs2970818   \n",
      "\n",
      "  trait_info.ontology                    trait_info.reported_trait_name  \\\n",
      "0         HMDB0000561  Carotenoid and tocopherol levels (beta-carotene)   \n",
      "1         HMDB0000054                                  Bilirubin levels   \n",
      "2         HMDB0000054                                  Bilirubin levels   \n",
      "3         HMDB0012097                 Sphingolipid levels (SM 14:0Mol%)   \n",
      "4         HMDB0000122              Fasting glucose-related traits (FPG)   \n",
      "5         HMDB0001438                           Vitamin D insufficiency   \n",
      "6         HMDB0001438                           Vitamin D insufficiency   \n",
      "7         HMDB0001438                           Vitamin D insufficiency   \n",
      "8         HMDB0001315                                 Phosphorus levels   \n",
      "9         HMDB0001315                                 Phosphorus levels   \n",
      "\n",
      "        trait_info.standard_trait_name  \n",
      "0                           B-Carotene  \n",
      "1                            Bilirubin  \n",
      "2                            Bilirubin  \n",
      "3  sphingomyelin 14∶0 molar percentage  \n",
      "4                            D-Glucose  \n",
      "5                 25-Hydroxyvitamin D2  \n",
      "6                 25-Hydroxyvitamin D2  \n",
      "7                 25-Hydroxyvitamin D2  \n",
      "8                           Phosphorus  \n",
      "9                           Phosphorus  \n",
      "\n",
      "[10 rows x 31 columns]\n"
     ]
    }
   ],
   "source": [
    "print(gs_data.columns.tolist())\n",
    "print(gs_data.head(10))"
   ]
  },
  {
   "cell_type": "code",
   "execution_count": 7,
   "id": "3f894d78-5889-4610-8a3a-df4277262cc8",
   "metadata": {},
   "outputs": [
    {
     "name": "stdout",
     "output_type": "stream",
     "text": [
      "Using new features and target.\n",
      "Data preprocessed successfully. Target 'High' confidence is mapped to 1.\n"
     ]
    }
   ],
   "source": [
    "# --- 1. Define New Features and Target ---\n",
    "# We select columns that exist in your new data file\n",
    "features = [\n",
    "    'association_info.neg_log_pval',\n",
    "    'sentinel_variant.locus_GRCh37.position'\n",
    "]\n",
    "\n",
    "# Our new target column is the confidence level\n",
    "target_col = 'gold_standard_info.evidence.confidence'\n",
    "\n",
    "print(\"Using new features and target.\")\n",
    "\n",
    "# --- 2. Preprocessing ---\n",
    "# Create a dataframe with only the columns we need\n",
    "model_df = gs_data[features + [target_col]].copy()\n",
    "\n",
    "# Handle missing values in numeric feature columns\n",
    "model_df.fillna(0, inplace=True)\n",
    "\n",
    "# Create a binary target variable: 1 if confidence is 'High', 0 otherwise\n",
    "# This is what our model will try to predict\n",
    "model_df['target'] = (model_df[target_col] == 'High').astype(int)\n",
    "\n",
    "print(\"Data preprocessed successfully. Target 'High' confidence is mapped to 1.\")"
   ]
  },
  {
   "cell_type": "code",
   "execution_count": 8,
   "id": "86a01ef1-f91b-4989-b05a-0fcb2bebd6ad",
   "metadata": {},
   "outputs": [
    {
     "name": "stdout",
     "output_type": "stream",
     "text": [
      "XGBoost model trained successfully!\n"
     ]
    },
    {
     "name": "stderr",
     "output_type": "stream",
     "text": [
      "C:\\Users\\epcm\\anaconda3\\envs\\xai_env\\lib\\site-packages\\xgboost\\core.py:158: UserWarning: [12:33:06] WARNING: D:\\bld\\xgboost-split_1744329010901\\work\\src\\learner.cc:740: \n",
      "Parameters: { \"use_label_encoder\" } are not used.\n",
      "\n",
      "  warnings.warn(smsg, UserWarning)\n"
     ]
    }
   ],
   "source": [
    "# --- 3. Split Data and Train the XGBoost model ---\n",
    "# Use the new features and the new binary 'target' column\n",
    "X = model_df[features]\n",
    "y = model_df['target']\n",
    "\n",
    "X_train, X_test, y_train, y_test = train_test_split(X, y, test_size=0.2, random_state=42, stratify=y)\n",
    "\n",
    "l2g_model = xgb.XGBClassifier(objective='binary:logistic', use_label_encoder=False, eval_metric='logloss')\n",
    "l2g_model.fit(X_train, y_train)\n",
    "\n",
    "print(\"XGBoost model trained successfully!\")"
   ]
  },
  {
   "cell_type": "code",
   "execution_count": 11,
   "id": "3e34962f-1a3a-4c15-86b2-d249b0096f29",
   "metadata": {},
   "outputs": [
    {
     "name": "stdout",
     "output_type": "stream",
     "text": [
      "Trained model saved to 'l2g_xgboost_model.joblib'\n",
      "Test data saved for later use.\n",
      "\n",
      "Setup complete! You are now ready for the XAI analysis.\n"
     ]
    }
   ],
   "source": [
    "# --- 4. Save the trained model and test data ---\n",
    "model_filename = 'l2g_xgboost_model.joblib'\n",
    "joblib.dump(l2g_model, model_filename)\n",
    "\n",
    "X_test.to_csv('X_test_data.csv', index=False)\n",
    "y_test.to_csv('y_test_data.csv', index=False)\n",
    "\n",
    "print(f\"Trained model saved to '{model_filename}'\")\n",
    "print(\"Test data saved for later use.\")\n",
    "print(\"\\nSetup complete! You are now ready for the XAI analysis.\")"
   ]
  },
  {
   "cell_type": "markdown",
   "id": "c0b5483d",
   "metadata": {},
   "source": [
    "# Loading Saved Model"
   ]
  },
  {
   "cell_type": "code",
   "execution_count": 7,
   "id": "ba8f96ff-0318-4cee-9353-f195dd88fd24",
   "metadata": {},
   "outputs": [],
   "source": [
    "import joblib\n",
    "import pandas as pd\n",
    "from sklearn.metrics import accuracy_score"
   ]
  },
  {
   "cell_type": "code",
   "execution_count": 8,
   "id": "5d26f474",
   "metadata": {},
   "outputs": [
    {
     "name": "stderr",
     "output_type": "stream",
     "text": [
      "/opt/homebrew/Cellar/python@3.12/3.12.9/Frameworks/Python.framework/Versions/3.12/lib/python3.12/pickle.py:1760: UserWarning: [21:18:38] WARNING: /Users/runner/work/xgboost/xgboost/src/gbm/../common/error_msg.h:82: If you are loading a serialized model (like pickle in Python, RDS in R) or\n",
      "configuration generated by an older version of XGBoost, please export the model by calling\n",
      "`Booster.save_model` from that version first, then load it back in current version. See:\n",
      "\n",
      "    https://xgboost.readthedocs.io/en/stable/tutorials/saving_model.html\n",
      "\n",
      "for more details about differences between saving model and serializing.\n",
      "\n",
      "  setstate(state)\n"
     ]
    }
   ],
   "source": [
    "# Load the saved XGBoost model\n",
    "model = joblib.load('l2g_xgboost_model.joblib')\n",
    "\n",
    "# Load test features and labels\n",
    "X_test = pd.read_csv('X_test_data.csv')\n",
    "y_test = pd.read_csv('y_test_data.csv')"
   ]
  },
  {
   "cell_type": "code",
   "execution_count": 9,
   "id": "771200d3",
   "metadata": {},
   "outputs": [
    {
     "data": {
      "text/html": [
       "<div>\n",
       "<style scoped>\n",
       "    .dataframe tbody tr th:only-of-type {\n",
       "        vertical-align: middle;\n",
       "    }\n",
       "\n",
       "    .dataframe tbody tr th {\n",
       "        vertical-align: top;\n",
       "    }\n",
       "\n",
       "    .dataframe thead th {\n",
       "        text-align: right;\n",
       "    }\n",
       "</style>\n",
       "<table border=\"1\" class=\"dataframe\">\n",
       "  <thead>\n",
       "    <tr style=\"text-align: right;\">\n",
       "      <th></th>\n",
       "      <th>association_info.neg_log_pval</th>\n",
       "      <th>sentinel_variant.locus_GRCh37.position</th>\n",
       "    </tr>\n",
       "  </thead>\n",
       "  <tbody>\n",
       "    <tr>\n",
       "      <th>0</th>\n",
       "      <td>13.000000</td>\n",
       "      <td>72433098</td>\n",
       "    </tr>\n",
       "    <tr>\n",
       "      <th>1</th>\n",
       "      <td>18.522879</td>\n",
       "      <td>12393125</td>\n",
       "    </tr>\n",
       "    <tr>\n",
       "      <th>2</th>\n",
       "      <td>15.979639</td>\n",
       "      <td>139942304</td>\n",
       "    </tr>\n",
       "    <tr>\n",
       "      <th>3</th>\n",
       "      <td>12.045757</td>\n",
       "      <td>118184783</td>\n",
       "    </tr>\n",
       "    <tr>\n",
       "      <th>4</th>\n",
       "      <td>7.522879</td>\n",
       "      <td>108618630</td>\n",
       "    </tr>\n",
       "    <tr>\n",
       "      <th>...</th>\n",
       "      <td>...</td>\n",
       "      <td>...</td>\n",
       "    </tr>\n",
       "    <tr>\n",
       "      <th>482</th>\n",
       "      <td>9.698970</td>\n",
       "      <td>44324727</td>\n",
       "    </tr>\n",
       "    <tr>\n",
       "      <th>483</th>\n",
       "      <td>8.000000</td>\n",
       "      <td>100298984</td>\n",
       "    </tr>\n",
       "    <tr>\n",
       "      <th>484</th>\n",
       "      <td>9.000000</td>\n",
       "      <td>15064309</td>\n",
       "    </tr>\n",
       "    <tr>\n",
       "      <th>485</th>\n",
       "      <td>9.522879</td>\n",
       "      <td>86427626</td>\n",
       "    </tr>\n",
       "    <tr>\n",
       "      <th>486</th>\n",
       "      <td>12.095826</td>\n",
       "      <td>6081230</td>\n",
       "    </tr>\n",
       "  </tbody>\n",
       "</table>\n",
       "<p>487 rows × 2 columns</p>\n",
       "</div>"
      ],
      "text/plain": [
       "     association_info.neg_log_pval  sentinel_variant.locus_GRCh37.position\n",
       "0                        13.000000                                72433098\n",
       "1                        18.522879                                12393125\n",
       "2                        15.979639                               139942304\n",
       "3                        12.045757                               118184783\n",
       "4                         7.522879                               108618630\n",
       "..                             ...                                     ...\n",
       "482                       9.698970                                44324727\n",
       "483                       8.000000                               100298984\n",
       "484                       9.000000                                15064309\n",
       "485                       9.522879                                86427626\n",
       "486                      12.095826                                 6081230\n",
       "\n",
       "[487 rows x 2 columns]"
      ]
     },
     "execution_count": 9,
     "metadata": {},
     "output_type": "execute_result"
    }
   ],
   "source": [
    "X_test"
   ]
  },
  {
   "cell_type": "code",
   "execution_count": 10,
   "id": "a3933262",
   "metadata": {},
   "outputs": [
    {
     "data": {
      "text/html": [
       "<div>\n",
       "<style scoped>\n",
       "    .dataframe tbody tr th:only-of-type {\n",
       "        vertical-align: middle;\n",
       "    }\n",
       "\n",
       "    .dataframe tbody tr th {\n",
       "        vertical-align: top;\n",
       "    }\n",
       "\n",
       "    .dataframe thead th {\n",
       "        text-align: right;\n",
       "    }\n",
       "</style>\n",
       "<table border=\"1\" class=\"dataframe\">\n",
       "  <thead>\n",
       "    <tr style=\"text-align: right;\">\n",
       "      <th></th>\n",
       "      <th>target</th>\n",
       "    </tr>\n",
       "  </thead>\n",
       "  <tbody>\n",
       "    <tr>\n",
       "      <th>0</th>\n",
       "      <td>0</td>\n",
       "    </tr>\n",
       "    <tr>\n",
       "      <th>1</th>\n",
       "      <td>0</td>\n",
       "    </tr>\n",
       "    <tr>\n",
       "      <th>2</th>\n",
       "      <td>0</td>\n",
       "    </tr>\n",
       "    <tr>\n",
       "      <th>3</th>\n",
       "      <td>1</td>\n",
       "    </tr>\n",
       "    <tr>\n",
       "      <th>4</th>\n",
       "      <td>1</td>\n",
       "    </tr>\n",
       "    <tr>\n",
       "      <th>...</th>\n",
       "      <td>...</td>\n",
       "    </tr>\n",
       "    <tr>\n",
       "      <th>482</th>\n",
       "      <td>1</td>\n",
       "    </tr>\n",
       "    <tr>\n",
       "      <th>483</th>\n",
       "      <td>0</td>\n",
       "    </tr>\n",
       "    <tr>\n",
       "      <th>484</th>\n",
       "      <td>0</td>\n",
       "    </tr>\n",
       "    <tr>\n",
       "      <th>485</th>\n",
       "      <td>0</td>\n",
       "    </tr>\n",
       "    <tr>\n",
       "      <th>486</th>\n",
       "      <td>0</td>\n",
       "    </tr>\n",
       "  </tbody>\n",
       "</table>\n",
       "<p>487 rows × 1 columns</p>\n",
       "</div>"
      ],
      "text/plain": [
       "     target\n",
       "0         0\n",
       "1         0\n",
       "2         0\n",
       "3         1\n",
       "4         1\n",
       "..      ...\n",
       "482       1\n",
       "483       0\n",
       "484       0\n",
       "485       0\n",
       "486       0\n",
       "\n",
       "[487 rows x 1 columns]"
      ]
     },
     "execution_count": 10,
     "metadata": {},
     "output_type": "execute_result"
    }
   ],
   "source": [
    "y_test"
   ]
  },
  {
   "cell_type": "code",
   "execution_count": 11,
   "id": "b8c654d2",
   "metadata": {},
   "outputs": [
    {
     "name": "stdout",
     "output_type": "stream",
     "text": [
      "Test Accuracy: 0.7454\n"
     ]
    }
   ],
   "source": [
    "# Predict on test data\n",
    "y_pred = model.predict(X_test)\n",
    "\n",
    "# Calculate accuracy\n",
    "accuracy = accuracy_score(y_test, y_pred)\n",
    "\n",
    "print(f\"Test Accuracy: {accuracy:.4f}\")"
   ]
  },
  {
   "cell_type": "code",
   "execution_count": 12,
   "id": "2b04666f",
   "metadata": {},
   "outputs": [
    {
     "data": {
      "text/plain": [
       "array([0, 1, 1, 1, 0, 0, 0, 1, 0, 0, 0, 0, 1, 0, 0, 0, 0, 1, 1, 0, 0, 0,\n",
       "       0, 0, 0, 0, 0, 1, 0, 1, 0, 0, 0, 0, 0, 0, 0, 0, 0, 1, 1, 0, 0, 0,\n",
       "       0, 0, 0, 0, 1, 0, 0, 1, 1, 0, 0, 1, 0, 0, 0, 1, 0, 1, 0, 0, 0, 0,\n",
       "       0, 0, 0, 1, 0, 1, 0, 0, 0, 0, 0, 0, 0, 0, 0, 0, 0, 0, 0, 1, 0, 1,\n",
       "       0, 1, 0, 0, 0, 0, 1, 0, 1, 0, 1, 0, 0, 0, 1, 0, 0, 0, 1, 0, 0, 1,\n",
       "       1, 0, 0, 0, 0, 0, 0, 1, 0, 1, 0, 0, 0, 0, 1, 0, 0, 1, 1, 0, 0, 0,\n",
       "       1, 0, 1, 0, 0, 1, 1, 0, 1, 1, 1, 1, 0, 0, 1, 1, 1, 0, 0, 1, 0, 0,\n",
       "       0, 0, 1, 1, 1, 0, 0, 0, 1, 1, 0, 0, 0, 0, 1, 0, 1, 1, 0, 0, 0, 0,\n",
       "       0, 0, 0, 0, 1, 1, 1, 0, 0, 0, 0, 0, 0, 0, 0, 1, 1, 1, 0, 0, 0, 0,\n",
       "       1, 0, 0, 0, 1, 0, 0, 0, 0, 1, 1, 0, 0, 0, 0, 0, 1, 0, 1, 0, 0, 0,\n",
       "       1, 0, 0, 1, 1, 0, 1, 0, 0, 0, 1, 0, 0, 0, 1, 0, 0, 0, 0, 0, 0, 0,\n",
       "       0, 1, 0, 0, 0, 0, 1, 1, 0, 1, 0, 0, 1, 0, 0, 0, 0, 1, 1, 0, 1, 0,\n",
       "       1, 1, 0, 1, 0, 1, 0, 0, 0, 1, 0, 1, 1, 0, 0, 0, 1, 1, 0, 0, 0, 1,\n",
       "       0, 0, 0, 1, 1, 1, 1, 1, 0, 0, 1, 0, 1, 0, 1, 0, 0, 0, 0, 1, 1, 0,\n",
       "       0, 0, 0, 0, 1, 1, 0, 0, 1, 1, 0, 0, 1, 1, 0, 1, 0, 0, 1, 0, 1, 0,\n",
       "       0, 0, 0, 0, 0, 0, 0, 0, 0, 1, 0, 1, 1, 0, 0, 1, 1, 0, 0, 0, 0, 0,\n",
       "       0, 0, 0, 0, 1, 0, 0, 0, 0, 0, 0, 0, 1, 0, 0, 0, 0, 1, 0, 1, 1, 1,\n",
       "       0, 1, 0, 0, 0, 1, 0, 0, 0, 0, 0, 0, 0, 0, 0, 1, 1, 0, 0, 1, 1, 1,\n",
       "       0, 1, 0, 0, 1, 1, 0, 0, 0, 0, 1, 1, 1, 0, 0, 0, 0, 0, 0, 0, 0, 1,\n",
       "       0, 0, 1, 0, 0, 0, 0, 1, 1, 0, 0, 0, 0, 0, 0, 1, 0, 0, 0, 0, 0, 0,\n",
       "       0, 0, 0, 1, 0, 1, 0, 0, 0, 0, 0, 0, 0, 0, 1, 0, 1, 0, 0, 0, 1, 0,\n",
       "       0, 1, 1, 0, 0, 0, 0, 0, 0, 0, 1, 0, 0, 0, 0, 1, 0, 0, 1, 1, 0, 0,\n",
       "       1, 0, 0])"
      ]
     },
     "execution_count": 12,
     "metadata": {},
     "output_type": "execute_result"
    }
   ],
   "source": [
    "y_pred"
   ]
  },
  {
   "cell_type": "markdown",
   "id": "224b925a",
   "metadata": {},
   "source": [
    "# SHAP"
   ]
  },
  {
   "cell_type": "code",
   "execution_count": 13,
   "id": "29dcb51c",
   "metadata": {},
   "outputs": [
    {
     "data": {
      "image/png": "[encoded data removed]",
      "text/plain": [
       "<Figure size 800x230 with 2 Axes>"
      ]
     },
     "metadata": {},
     "output_type": "display_data"
    },
    {
     "data": {
      "image/png": "[encoded data removed]",
      "text/plain": [
       "<Figure size 2000x300 with 1 Axes>"
      ]
     },
     "metadata": {},
     "output_type": "display_data"
    }
   ],
   "source": [
    "import shap\n",
    "import pandas as pd\n",
    "\n",
    "# Load test data\n",
    "X_test = pd.read_csv(\"X_test_data.csv\")\n",
    "\n",
    "# Create a SHAP explainer\n",
    "explainer = shap.Explainer(model)  # Works directly with XGBClassifier\n",
    "shap_values = explainer(X_test)\n",
    "\n",
    "# Summary plot (global feature importance)\n",
    "shap.summary_plot(shap_values, X_test)\n",
    "\n",
    "# Force plot for a single prediction (local explanation)\n",
    "shap.plots.force(shap_values[0],matplotlib=True)"
   ]
  },
  {
   "cell_type": "markdown",
   "id": "bc23ffa4",
   "metadata": {},
   "source": [
    "### **Executive Summary**\n",
    "\n",
    "This analysis was conducted to interpret the predictions of a pre-trained `XGBClassifier` model. Using the SHAP (SHapley Additive exPlanations) library, we successfully identified the key features driving the model's decisions on both a global and a local level. The analysis revealed that `sentinel.variant.locus.GRCh37.position` and `association.info.neg_log_pval` are the most influential features. A specific prediction was then dissected to demonstrate exactly how these features interact to produce a final output.\n",
    "\n",
    "### **Methodology: Model Interpretation with SHAP**\n",
    "\n",
    "To understand the \"black box\" nature of the machine learning model, we employed the SHAP framework. This game theory-based approach assigns an importance value (a \"SHAP value\") to each feature for every individual prediction, allowing us to see precisely how the model makes its decisions.\n",
    "\n",
    "The analysis was performed in two stages:\n",
    "1.  **Global Explanation:** To understand the model's behavior across the entire dataset.\n",
    "2.  **Local Explanation:** To deconstruct a single, specific prediction.\n",
    "\n",
    "### **Part 1: Global Feature Importance (The Summary Plot)**\n",
    "\n",
    "The first step was to generate a SHAP summary plot to get a high-level view of which features are most important and how they affect the model's predictions.\n",
    "\n",
    "**Findings:**\n",
    "\n",
    "* **Feature Importance:** The features are ranked by importance from top to bottom. The analysis identified **`sentinel.variant.locus.GRCh37.position`** as the most impactful feature, followed by **`association.info.neg_log_pval`**.\n",
    "* **Feature Impact:**\n",
    "    * For `sentinel.variant.locus.GRCh37.position`, high values (shown in red) are strongly correlated with higher model predictions (positive SHAP values), while low values (in blue) push the prediction lower.\n",
    "    * For `association.info.neg_log_pval`, high values also push the prediction higher. A high value here represents a more statistically significant result (i.e., a very small p-value), indicating that the model has learned this relationship.\n",
    "\n",
    "### **Part 2: Local Prediction Explanation (The Force Plot)**\n",
    "\n",
    "To understand how these general rules apply to a specific case, we generated a force plot for the first prediction in our test set.\n",
    "\n",
    "**Technical Note:** The initial attempt to render this plot failed due to a JavaScript rendering issue within the VSCode environment. This was resolved by instructing SHAP to generate a static plot using the Matplotlib library (`matplotlib=True`).\n",
    "\n",
    "**Findings:**\n",
    "\n",
    "This plot deconstructs the prediction for a single data point, explaining how the model arrived at its final output of **f(x) = -1.44**.\n",
    "\n",
    "* **Base Value:** The model's average prediction across all data is **-0.7**. This is the starting point for the prediction.\n",
    "* **Driving Forces:**\n",
    "    * **(+) Positive Force (Red):** The feature `association.info.neg_log_pval` had a value of **13.0**. This acted as a force pushing the prediction *higher* than the base value.\n",
    "    * **(-) Negative Force (Blue):** The feature `sentinel.variant.locus.GRCh37.position` had a value of **72,433,098.0**. This acted as a much stronger counter-force, pushing the prediction significantly *lower*.\n",
    "* **Final Prediction:** The interplay between the positive push from the p-value and the stronger negative push from the genomic position resulted in the final output of **-1.44**.\n",
    "\n",
    "### **Conclusion**\n",
    "\n",
    "The two-stage SHAP analysis provided a comprehensive understanding of the model's behavior. The **summary plot** revealed the general rules and most important features the model relies on. The **force plot** provided a granular, auditable explanation for a single decision, demonstrating how those general rules were balanced to handle a specific case. This confirms that the model is making decisions based on logical, interpretable patterns in the data."
   ]
  },
  {
   "cell_type": "markdown",
   "id": "9789eeea",
   "metadata": {},
   "source": [
    "#LIME"
   ]
  },
  {
   "cell_type": "code",
   "execution_count": 17,
   "id": "b3db4235",
   "metadata": {},
   "outputs": [
    {
     "ename": "NameError",
     "evalue": "name 'X_train' is not defined",
     "output_type": "error",
     "traceback": [
      "\u001b[31m---------------------------------------------------------------------------\u001b[39m",
      "\u001b[31mNameError\u001b[39m                                 Traceback (most recent call last)",
      "\u001b[36mCell\u001b[39m\u001b[36m \u001b[39m\u001b[32mIn[17]\u001b[39m\u001b[32m, line 11\u001b[39m\n\u001b[32m      9\u001b[39m \u001b[38;5;66;03m# 2. Build a LIME Tabular explainer -----------------------------------------\u001b[39;00m\n\u001b[32m     10\u001b[39m class_names = [\u001b[33m\"\u001b[39m\u001b[33mLow-conf\u001b[39m\u001b[33m\"\u001b[39m, \u001b[33m\"\u001b[39m\u001b[33mHigh-conf\u001b[39m\u001b[33m\"\u001b[39m]          \u001b[38;5;66;03m# 0 → low, 1 → high\u001b[39;00m\n\u001b[32m---> \u001b[39m\u001b[32m11\u001b[39m feature_names = \u001b[38;5;28mlist\u001b[39m(\u001b[43mX_train\u001b[49m.columns)           \u001b[38;5;66;03m# ['neg_log_pval', 'position']\u001b[39;00m\n\u001b[32m     12\u001b[39m categorical_features = np.array([], dtype=\u001b[38;5;28mint\u001b[39m)  \u001b[38;5;66;03m# no categorical columns here\u001b[39;00m\n\u001b[32m     13\u001b[39m categorical_names   = {}                        \u001b[38;5;66;03m# …so nothing to map\u001b[39;00m\n",
      "\u001b[31mNameError\u001b[39m: name 'X_train' is not defined"
     ]
    }
   ],
   "source": [
    "# 📦 1. Make sure LIME is installed\n",
    "# !pip install -q lime\n",
    "\n",
    "from lime import lime_tabular\n",
    "import numpy as np\n",
    "import pandas as pd\n",
    "import matplotlib.pyplot as plt\n",
    "\n",
    "# 2. Build a LIME Tabular explainer -----------------------------------------\n",
    "class_names = [\"Low-conf\", \"High-conf\"]          # 0 → low, 1 → high\n",
    "feature_names = list(X_train.columns)           # ['neg_log_pval', 'position']\n",
    "categorical_features = np.array([], dtype=int)  # no categorical columns here\n",
    "categorical_names   = {}                        # …so nothing to map\n",
    "\n",
    "explainer = lime_tabular.LimeTabularExplainer(\n",
    "    training_data      = X_train.values,\n",
    "    mode               = \"classification\",\n",
    "    feature_names      = feature_names,\n",
    "    class_names        = class_names,\n",
    "    discretize_continuous = True,               # auto-bin numerics for clarity\n",
    "    categorical_features   = categorical_features,\n",
    "    categorical_names      = categorical_names,\n",
    "    random_state       = 42\n",
    ")\n",
    "\n",
    "# 3. Local explanation for ONE test row --------------------------------------\n",
    "idx   = 0                                  # pick the first row in X_test\n",
    "sample = X_test.iloc[idx].values\n",
    "\n",
    "lime_exp = explainer.explain_instance(\n",
    "    data_row      = sample,\n",
    "    predict_fn    = model.predict_proba,   # must return class-prob array\n",
    "    num_features  = len(feature_names)     # show all features\n",
    ")\n",
    "\n",
    "print(\"Predicted class:\", class_names[int(model.predict(X_test.iloc[[idx]])[0])])\n",
    "lime_exp.show_in_notebook(show_table=True, show_all=False)\n",
    "\n",
    "# ----------------------------------------------------------------------------\n",
    "# 4. Quick-and-dirty GLOBAL importance estimate (average of |weights|) -------\n",
    "n_samples = min(500, len(X_test))          # cap for speed\n",
    "all_weights = []\n",
    "\n",
    "for i in np.random.choice(len(X_test), size=n_samples, replace=False):\n",
    "    e = explainer.explain_instance(\n",
    "        X_test.iloc[i].values,\n",
    "        model.predict_proba,\n",
    "        num_features=len(feature_names)\n",
    "    )\n",
    "    # Convert list [(feat, weight), …] → dict then align order\n",
    "    w = dict(e.as_list())\n",
    "    all_weights.append([abs(w.get(f, 0.0)) for f in feature_names])\n",
    "\n",
    "global_importance = np.mean(all_weights, axis=0)\n",
    "\n",
    "# 5. Plot the global view -----------------------------------------------------\n",
    "plt.figure()\n",
    "plt.barh(feature_names, global_importance)\n",
    "plt.xlabel(\"Average |LIME weight| across test set\")\n",
    "plt.title(\"Global feature importance (LIME approximation)\")\n",
    "plt.show()\n"
   ]
  }
 ],
 "metadata": {
  "kernelspec": {
   "display_name": "Ice_Breaker-AMUHNgEG",
   "language": "python",
   "name": "python3"
  },
  "language_info": {
   "codemirror_mode": {
    "name": "ipython",
    "version": 3
   },
   "file_extension": ".py",
   "mimetype": "text/x-python",
   "name": "python",
   "nbconvert_exporter": "python",
   "pygments_lexer": "ipython3",
   "version": "3.12.9"
  }
 },
 "nbformat": 4,
 "nbformat_minor": 5
}
