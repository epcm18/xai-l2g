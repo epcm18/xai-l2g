{
 "cells": [
  {
   "cell_type": "code",
   "execution_count": 1,
   "id": "7aff0616-28a0-4d54-b345-c5f4b29c6035",
   "metadata": {},
   "outputs": [
    {
     "name": "stdout",
     "output_type": "stream",
     "text": [
      "Libraries imported successfully!\n"
     ]
    }
   ],
   "source": [
    "# --- 1. Import necessary libraries ---\n",
    "import pandas as pd\n",
    "import xgboost as xgb\n",
    "import joblib\n",
    "from sklearn.model_selection import train_test_split\n",
    "from sklearn.preprocessing import LabelEncoder\n",
    "\n",
    "print(\"Libraries imported successfully!\")"
   ]
  },
  {
   "cell_type": "code",
   "execution_count": 3,
   "id": "57ea3f48-c1c3-4c67-ae10-e45b87444f0b",
   "metadata": {},
   "outputs": [
    {
     "name": "stdout",
     "output_type": "stream",
     "text": [
      "Data loaded from 'genetics-gold-standards/gold_standards/processed/gwas_gold_standards.191108.tsv'. Shape: (2435, 31)\n"
     ]
    }
   ],
   "source": [
    "# The path is relative to where your notebook is located\n",
    "data_path = 'genetics-gold-standards/gold_standards/processed/gwas_gold_standards.191108.tsv'\n",
    "gs_data = pd.read_csv(data_path, sep='\\t')\n",
    "\n",
    "print(f\"Data loaded from '{data_path}'. Shape: {gs_data.shape}\")"
   ]
  },
  {
   "cell_type": "code",
   "execution_count": 6,
   "id": "01912d58-790f-40f0-bbfc-9792c99f6a09",
   "metadata": {},
   "outputs": [
    {
     "name": "stdout",
     "output_type": "stream",
     "text": [
      "['association_info.ancestry', 'association_info.doi', 'association_info.gwas_catalog_id', 'association_info.neg_log_pval', 'association_info.otg_id', 'association_info.pubmed_id', 'association_info.url', 'gold_standard_info.evidence.class', 'gold_standard_info.evidence.confidence', 'gold_standard_info.evidence.curated_by', 'gold_standard_info.evidence.description', 'gold_standard_info.evidence.pubmed_id', 'gold_standard_info.evidence.source', 'gold_standard_info.gene_id', 'gold_standard_info.highest_confidence', 'metadata.comments', 'metadata.date_added', 'metadata.reviewed_by', 'metadata.set_label', 'metadata.submitted_by', 'metadata.tags', 'sentinel_variant.alleles.alternative', 'sentinel_variant.alleles.reference', 'sentinel_variant.locus_GRCh37.chromosome', 'sentinel_variant.locus_GRCh37.position', 'sentinel_variant.locus_GRCh38.chromosome', 'sentinel_variant.locus_GRCh38.position', 'sentinel_variant.rsid', 'trait_info.ontology', 'trait_info.reported_trait_name', 'trait_info.standard_trait_name']\n",
      "  association_info.ancestry association_info.doi  \\\n",
      "0                       EUR                  NaN   \n",
      "1                   unknown                  NaN   \n",
      "2                   ASW|EUR                  NaN   \n",
      "3                       EUR                  NaN   \n",
      "4                       EUR                  NaN   \n",
      "5                       EUR                  NaN   \n",
      "6                       EUR                  NaN   \n",
      "7                       EUR                  NaN   \n",
      "8                       EUR                  NaN   \n",
      "9                       EUR                  NaN   \n",
      "\n",
      "  association_info.gwas_catalog_id  association_info.neg_log_pval  \\\n",
      "0                       GCST000324                         23.699   \n",
      "1                       GCST000386                        323.301   \n",
      "2                       GCST000388                          8.046   \n",
      "3                       GCST000493                         65.046   \n",
      "4                       GCST000568                        217.046   \n",
      "5                       GCST000697                        108.699   \n",
      "6                       GCST000697                         19.523   \n",
      "7                       GCST000697                         26.699   \n",
      "8                       GCST000703                         27.000   \n",
      "9                       GCST000703                          8.398   \n",
      "\n",
      "  association_info.otg_id  association_info.pubmed_id association_info.url  \\\n",
      "0            GCST000324_3                  19185284.0                  NaN   \n",
      "1              GCST000386                  19414484.0                  NaN   \n",
      "2              GCST000388                  19419973.0                  NaN   \n",
      "3            GCST000493_3                  19798445.0                  NaN   \n",
      "4              GCST000568                  20081858.0                  NaN   \n",
      "5              GCST000697                  20541252.0                  NaN   \n",
      "6              GCST000697                  20541252.0                  NaN   \n",
      "7              GCST000697                  20541252.0                  NaN   \n",
      "8              GCST000703                  20558539.0                  NaN   \n",
      "9              GCST000703                  20558539.0                  NaN   \n",
      "\n",
      "  gold_standard_info.evidence.class gold_standard_info.evidence.confidence  \\\n",
      "0                    expert curated                                   High   \n",
      "1                    expert curated                                   High   \n",
      "2                    expert curated                                   High   \n",
      "3                    expert curated                                   High   \n",
      "4                    expert curated                                   High   \n",
      "5                    expert curated                                   High   \n",
      "6                    expert curated                                   High   \n",
      "7                    expert curated                                   High   \n",
      "8                    expert curated                                   High   \n",
      "9                    expert curated                                   High   \n",
      "\n",
      "  gold_standard_info.evidence.curated_by  ...  \\\n",
      "0                            Eric Fauman  ...   \n",
      "1                            Eric Fauman  ...   \n",
      "2                            Eric Fauman  ...   \n",
      "3                            Eric Fauman  ...   \n",
      "4                            Eric Fauman  ...   \n",
      "5                            Eric Fauman  ...   \n",
      "6                            Eric Fauman  ...   \n",
      "7                            Eric Fauman  ...   \n",
      "8                            Eric Fauman  ...   \n",
      "9                            Eric Fauman  ...   \n",
      "\n",
      "  sentinel_variant.alleles.alternative sentinel_variant.alleles.reference  \\\n",
      "0                                    G                                  T   \n",
      "1                                    T                                  G   \n",
      "2                                    G                                  C   \n",
      "3                                    T                                  G   \n",
      "4                                    C                                  T   \n",
      "5                                    G                                  T   \n",
      "6                                    G                                  A   \n",
      "7                                    T                                  G   \n",
      "8                                    T                                  C   \n",
      "9                                    A                                  T   \n",
      "\n",
      "  sentinel_variant.locus_GRCh37.chromosome  \\\n",
      "0                                       16   \n",
      "1                                        2   \n",
      "2                                        X   \n",
      "3                                       14   \n",
      "4                                        2   \n",
      "5                                        4   \n",
      "6                                       11   \n",
      "7                                       11   \n",
      "8                                        1   \n",
      "9                                       12   \n",
      "\n",
      "  sentinel_variant.locus_GRCh37.position  \\\n",
      "0                               81264597   \n",
      "1                              234672639   \n",
      "2                              153554404   \n",
      "3                               64235556   \n",
      "4                              169763148   \n",
      "5                               72608383   \n",
      "6                               14914878   \n",
      "7                               71167449   \n",
      "8                               21823292   \n",
      "9                                4606168   \n",
      "\n",
      "  sentinel_variant.locus_GRCh38.chromosome  \\\n",
      "0                                       16   \n",
      "1                                        2   \n",
      "2                                        X   \n",
      "3                                       14   \n",
      "4                                        2   \n",
      "5                                        4   \n",
      "6                                       11   \n",
      "7                                       11   \n",
      "8                                        1   \n",
      "9                                       12   \n",
      "\n",
      "  sentinel_variant.locus_GRCh38.position sentinel_variant.rsid  \\\n",
      "0                               81230992             rs6564851   \n",
      "1                              233763993             rs6742078   \n",
      "2                              154326058              rs766420   \n",
      "3                               63768838             rs7157785   \n",
      "4                              168906638              rs560887   \n",
      "5                               71742666             rs2282679   \n",
      "6                               14893332            rs10741657   \n",
      "7                               71456403            rs12785878   \n",
      "8                               21496799             rs1697421   \n",
      "9                                4497002             rs2970818   \n",
      "\n",
      "  trait_info.ontology                    trait_info.reported_trait_name  \\\n",
      "0         HMDB0000561  Carotenoid and tocopherol levels (beta-carotene)   \n",
      "1         HMDB0000054                                  Bilirubin levels   \n",
      "2         HMDB0000054                                  Bilirubin levels   \n",
      "3         HMDB0012097                 Sphingolipid levels (SM 14:0Mol%)   \n",
      "4         HMDB0000122              Fasting glucose-related traits (FPG)   \n",
      "5         HMDB0001438                           Vitamin D insufficiency   \n",
      "6         HMDB0001438                           Vitamin D insufficiency   \n",
      "7         HMDB0001438                           Vitamin D insufficiency   \n",
      "8         HMDB0001315                                 Phosphorus levels   \n",
      "9         HMDB0001315                                 Phosphorus levels   \n",
      "\n",
      "        trait_info.standard_trait_name  \n",
      "0                           B-Carotene  \n",
      "1                            Bilirubin  \n",
      "2                            Bilirubin  \n",
      "3  sphingomyelin 14∶0 molar percentage  \n",
      "4                            D-Glucose  \n",
      "5                 25-Hydroxyvitamin D2  \n",
      "6                 25-Hydroxyvitamin D2  \n",
      "7                 25-Hydroxyvitamin D2  \n",
      "8                           Phosphorus  \n",
      "9                           Phosphorus  \n",
      "\n",
      "[10 rows x 31 columns]\n"
     ]
    }
   ],
   "source": [
    "print(gs_data.columns.tolist())\n",
    "print(gs_data.head(10))"
   ]
  },
  {
   "cell_type": "code",
   "execution_count": 7,
   "id": "3f894d78-5889-4610-8a3a-df4277262cc8",
   "metadata": {},
   "outputs": [
    {
     "name": "stdout",
     "output_type": "stream",
     "text": [
      "Using new features and target.\n",
      "Data preprocessed successfully. Target 'High' confidence is mapped to 1.\n"
     ]
    }
   ],
   "source": [
    "# --- 1. Define New Features and Target ---\n",
    "# We select columns that exist in your new data file\n",
    "features = [\n",
    "    'association_info.neg_log_pval',\n",
    "    'sentinel_variant.locus_GRCh37.position'\n",
    "]\n",
    "\n",
    "# Our new target column is the confidence level\n",
    "target_col = 'gold_standard_info.evidence.confidence'\n",
    "\n",
    "print(\"Using new features and target.\")\n",
    "\n",
    "# --- 2. Preprocessing ---\n",
    "# Create a dataframe with only the columns we need\n",
    "model_df = gs_data[features + [target_col]].copy()\n",
    "\n",
    "# Handle missing values in numeric feature columns\n",
    "model_df.fillna(0, inplace=True)\n",
    "\n",
    "# Create a binary target variable: 1 if confidence is 'High', 0 otherwise\n",
    "# This is what our model will try to predict\n",
    "model_df['target'] = (model_df[target_col] == 'High').astype(int)\n",
    "\n",
    "print(\"Data preprocessed successfully. Target 'High' confidence is mapped to 1.\")"
   ]
  },
  {
   "cell_type": "code",
   "execution_count": 8,
   "id": "86a01ef1-f91b-4989-b05a-0fcb2bebd6ad",
   "metadata": {},
   "outputs": [
    {
     "name": "stdout",
     "output_type": "stream",
     "text": [
      "XGBoost model trained successfully!\n"
     ]
    },
    {
     "name": "stderr",
     "output_type": "stream",
     "text": [
      "C:\\Users\\epcm\\anaconda3\\envs\\xai_env\\lib\\site-packages\\xgboost\\core.py:158: UserWarning: [12:33:06] WARNING: D:\\bld\\xgboost-split_1744329010901\\work\\src\\learner.cc:740: \n",
      "Parameters: { \"use_label_encoder\" } are not used.\n",
      "\n",
      "  warnings.warn(smsg, UserWarning)\n"
     ]
    }
   ],
   "source": [
    "# --- 3. Split Data and Train the XGBoost model ---\n",
    "# Use the new features and the new binary 'target' column\n",
    "X = model_df[features]\n",
    "y = model_df['target']\n",
    "\n",
    "X_train, X_test, y_train, y_test = train_test_split(X, y, test_size=0.2, random_state=42, stratify=y)\n",
    "\n",
    "l2g_model = xgb.XGBClassifier(objective='binary:logistic', use_label_encoder=False, eval_metric='logloss')\n",
    "l2g_model.fit(X_train, y_train)\n",
    "\n",
    "print(\"XGBoost model trained successfully!\")"
   ]
  },
  {
   "cell_type": "code",
   "execution_count": 11,
   "id": "3e34962f-1a3a-4c15-86b2-d249b0096f29",
   "metadata": {},
   "outputs": [
    {
     "name": "stdout",
     "output_type": "stream",
     "text": [
      "Trained model saved to 'l2g_xgboost_model.joblib'\n",
      "Test data saved for later use.\n",
      "\n",
      "Setup complete! You are now ready for the XAI analysis.\n"
     ]
    }
   ],
   "source": [
    "# --- 4. Save the trained model and test data ---\n",
    "model_filename = 'l2g_xgboost_model.joblib'\n",
    "joblib.dump(l2g_model, model_filename)\n",
    "\n",
    "X_test.to_csv('X_test_data.csv', index=False)\n",
    "y_test.to_csv('y_test_data.csv', index=False)\n",
    "\n",
    "print(f\"Trained model saved to '{model_filename}'\")\n",
    "print(\"Test data saved for later use.\")\n",
    "print(\"\\nSetup complete! You are now ready for the XAI analysis.\")"
   ]
  },
  {
   "cell_type": "markdown",
   "id": "c0b5483d",
   "metadata": {},
   "source": [
    "# Loading Saved Model"
   ]
  },
  {
   "cell_type": "code",
   "execution_count": 1,
   "id": "ba8f96ff-0318-4cee-9353-f195dd88fd24",
   "metadata": {},
   "outputs": [],
   "source": [
    "import joblib\n",
    "import pandas as pd\n",
    "from sklearn.metrics import accuracy_score"
   ]
  },
  {
   "cell_type": "code",
   "execution_count": 2,
   "id": "5d26f474",
   "metadata": {},
   "outputs": [
    {
     "name": "stderr",
     "output_type": "stream",
     "text": [
      "c:\\Users\\rwkos\\miniconda3\\envs\\bioinfo\\Lib\\pickle.py:1760: UserWarning: [12:51:54] WARNING: C:\\actions-runner\\_work\\xgboost\\xgboost\\src\\data\\../common/error_msg.h:82: If you are loading a serialized model (like pickle in Python, RDS in R) or\n",
      "configuration generated by an older version of XGBoost, please export the model by calling\n",
      "`Booster.save_model` from that version first, then load it back in current version. See:\n",
      "\n",
      "    https://xgboost.readthedocs.io/en/stable/tutorials/saving_model.html\n",
      "\n",
      "for more details about differences between saving model and serializing.\n",
      "\n",
      "  setstate(state)\n"
     ]
    }
   ],
   "source": [
    "# Load the saved XGBoost model\n",
    "model = joblib.load('l2g_xgboost_model.joblib')\n",
    "\n",
    "# Load test features and labels\n",
    "X_test = pd.read_csv('X_test_data.csv')\n",
    "y_test = pd.read_csv('y_test_data.csv')"
   ]
  },
  {
   "cell_type": "code",
   "execution_count": 6,
   "id": "771200d3",
   "metadata": {},
   "outputs": [
    {
     "data": {
      "text/html": [
       "<div>\n",
       "<style scoped>\n",
       "    .dataframe tbody tr th:only-of-type {\n",
       "        vertical-align: middle;\n",
       "    }\n",
       "\n",
       "    .dataframe tbody tr th {\n",
       "        vertical-align: top;\n",
       "    }\n",
       "\n",
       "    .dataframe thead th {\n",
       "        text-align: right;\n",
       "    }\n",
       "</style>\n",
       "<table border=\"1\" class=\"dataframe\">\n",
       "  <thead>\n",
       "    <tr style=\"text-align: right;\">\n",
       "      <th></th>\n",
       "      <th>association_info.neg_log_pval</th>\n",
       "      <th>sentinel_variant.locus_GRCh37.position</th>\n",
       "    </tr>\n",
       "  </thead>\n",
       "  <tbody>\n",
       "    <tr>\n",
       "      <th>0</th>\n",
       "      <td>13.000000</td>\n",
       "      <td>72433098</td>\n",
       "    </tr>\n",
       "    <tr>\n",
       "      <th>1</th>\n",
       "      <td>18.522879</td>\n",
       "      <td>12393125</td>\n",
       "    </tr>\n",
       "    <tr>\n",
       "      <th>2</th>\n",
       "      <td>15.979639</td>\n",
       "      <td>139942304</td>\n",
       "    </tr>\n",
       "    <tr>\n",
       "      <th>3</th>\n",
       "      <td>12.045757</td>\n",
       "      <td>118184783</td>\n",
       "    </tr>\n",
       "    <tr>\n",
       "      <th>4</th>\n",
       "      <td>7.522879</td>\n",
       "      <td>108618630</td>\n",
       "    </tr>\n",
       "    <tr>\n",
       "      <th>...</th>\n",
       "      <td>...</td>\n",
       "      <td>...</td>\n",
       "    </tr>\n",
       "    <tr>\n",
       "      <th>482</th>\n",
       "      <td>9.698970</td>\n",
       "      <td>44324727</td>\n",
       "    </tr>\n",
       "    <tr>\n",
       "      <th>483</th>\n",
       "      <td>8.000000</td>\n",
       "      <td>100298984</td>\n",
       "    </tr>\n",
       "    <tr>\n",
       "      <th>484</th>\n",
       "      <td>9.000000</td>\n",
       "      <td>15064309</td>\n",
       "    </tr>\n",
       "    <tr>\n",
       "      <th>485</th>\n",
       "      <td>9.522879</td>\n",
       "      <td>86427626</td>\n",
       "    </tr>\n",
       "    <tr>\n",
       "      <th>486</th>\n",
       "      <td>12.095826</td>\n",
       "      <td>6081230</td>\n",
       "    </tr>\n",
       "  </tbody>\n",
       "</table>\n",
       "<p>487 rows × 2 columns</p>\n",
       "</div>"
      ],
      "text/plain": [
       "     association_info.neg_log_pval  sentinel_variant.locus_GRCh37.position\n",
       "0                        13.000000                                72433098\n",
       "1                        18.522879                                12393125\n",
       "2                        15.979639                               139942304\n",
       "3                        12.045757                               118184783\n",
       "4                         7.522879                               108618630\n",
       "..                             ...                                     ...\n",
       "482                       9.698970                                44324727\n",
       "483                       8.000000                               100298984\n",
       "484                       9.000000                                15064309\n",
       "485                       9.522879                                86427626\n",
       "486                      12.095826                                 6081230\n",
       "\n",
       "[487 rows x 2 columns]"
      ]
     },
     "execution_count": 6,
     "metadata": {},
     "output_type": "execute_result"
    }
   ],
   "source": [
    "X_test"
   ]
  },
  {
   "cell_type": "code",
   "execution_count": 5,
   "id": "a3933262",
   "metadata": {},
   "outputs": [
    {
     "data": {
      "text/html": [
       "<div>\n",
       "<style scoped>\n",
       "    .dataframe tbody tr th:only-of-type {\n",
       "        vertical-align: middle;\n",
       "    }\n",
       "\n",
       "    .dataframe tbody tr th {\n",
       "        vertical-align: top;\n",
       "    }\n",
       "\n",
       "    .dataframe thead th {\n",
       "        text-align: right;\n",
       "    }\n",
       "</style>\n",
       "<table border=\"1\" class=\"dataframe\">\n",
       "  <thead>\n",
       "    <tr style=\"text-align: right;\">\n",
       "      <th></th>\n",
       "      <th>target</th>\n",
       "    </tr>\n",
       "  </thead>\n",
       "  <tbody>\n",
       "    <tr>\n",
       "      <th>0</th>\n",
       "      <td>0</td>\n",
       "    </tr>\n",
       "    <tr>\n",
       "      <th>1</th>\n",
       "      <td>0</td>\n",
       "    </tr>\n",
       "    <tr>\n",
       "      <th>2</th>\n",
       "      <td>0</td>\n",
       "    </tr>\n",
       "    <tr>\n",
       "      <th>3</th>\n",
       "      <td>1</td>\n",
       "    </tr>\n",
       "    <tr>\n",
       "      <th>4</th>\n",
       "      <td>1</td>\n",
       "    </tr>\n",
       "    <tr>\n",
       "      <th>...</th>\n",
       "      <td>...</td>\n",
       "    </tr>\n",
       "    <tr>\n",
       "      <th>482</th>\n",
       "      <td>1</td>\n",
       "    </tr>\n",
       "    <tr>\n",
       "      <th>483</th>\n",
       "      <td>0</td>\n",
       "    </tr>\n",
       "    <tr>\n",
       "      <th>484</th>\n",
       "      <td>0</td>\n",
       "    </tr>\n",
       "    <tr>\n",
       "      <th>485</th>\n",
       "      <td>0</td>\n",
       "    </tr>\n",
       "    <tr>\n",
       "      <th>486</th>\n",
       "      <td>0</td>\n",
       "    </tr>\n",
       "  </tbody>\n",
       "</table>\n",
       "<p>487 rows × 1 columns</p>\n",
       "</div>"
      ],
      "text/plain": [
       "     target\n",
       "0         0\n",
       "1         0\n",
       "2         0\n",
       "3         1\n",
       "4         1\n",
       "..      ...\n",
       "482       1\n",
       "483       0\n",
       "484       0\n",
       "485       0\n",
       "486       0\n",
       "\n",
       "[487 rows x 1 columns]"
      ]
     },
     "execution_count": 5,
     "metadata": {},
     "output_type": "execute_result"
    }
   ],
   "source": [
    "y_test"
   ]
  },
  {
   "cell_type": "code",
   "execution_count": 3,
   "id": "b8c654d2",
   "metadata": {},
   "outputs": [
    {
     "name": "stdout",
     "output_type": "stream",
     "text": [
      "Test Accuracy: 0.7454\n"
     ]
    }
   ],
   "source": [
    "# Predict on test data\n",
    "y_pred = model.predict(X_test)\n",
    "\n",
    "# Calculate accuracy\n",
    "accuracy = accuracy_score(y_test, y_pred)\n",
    "\n",
    "print(f\"Test Accuracy: {accuracy:.4f}\")"
   ]
  },
  {
   "cell_type": "code",
   "execution_count": 7,
   "id": "2b04666f",
   "metadata": {},
   "outputs": [
    {
     "data": {
      "text/plain": [
       "array([0, 1, 1, 1, 0, 0, 0, 1, 0, 0, 0, 0, 1, 0, 0, 0, 0, 1, 1, 0, 0, 0,\n",
       "       0, 0, 0, 0, 0, 1, 0, 1, 0, 0, 0, 0, 0, 0, 0, 0, 0, 1, 1, 0, 0, 0,\n",
       "       0, 0, 0, 0, 1, 0, 0, 1, 1, 0, 0, 1, 0, 0, 0, 1, 0, 1, 0, 0, 0, 0,\n",
       "       0, 0, 0, 1, 0, 1, 0, 0, 0, 0, 0, 0, 0, 0, 0, 0, 0, 0, 0, 1, 0, 1,\n",
       "       0, 1, 0, 0, 0, 0, 1, 0, 1, 0, 1, 0, 0, 0, 1, 0, 0, 0, 1, 0, 0, 1,\n",
       "       1, 0, 0, 0, 0, 0, 0, 1, 0, 1, 0, 0, 0, 0, 1, 0, 0, 1, 1, 0, 0, 0,\n",
       "       1, 0, 1, 0, 0, 1, 1, 0, 1, 1, 1, 1, 0, 0, 1, 1, 1, 0, 0, 1, 0, 0,\n",
       "       0, 0, 1, 1, 1, 0, 0, 0, 1, 1, 0, 0, 0, 0, 1, 0, 1, 1, 0, 0, 0, 0,\n",
       "       0, 0, 0, 0, 1, 1, 1, 0, 0, 0, 0, 0, 0, 0, 0, 1, 1, 1, 0, 0, 0, 0,\n",
       "       1, 0, 0, 0, 1, 0, 0, 0, 0, 1, 1, 0, 0, 0, 0, 0, 1, 0, 1, 0, 0, 0,\n",
       "       1, 0, 0, 1, 1, 0, 1, 0, 0, 0, 1, 0, 0, 0, 1, 0, 0, 0, 0, 0, 0, 0,\n",
       "       0, 1, 0, 0, 0, 0, 1, 1, 0, 1, 0, 0, 1, 0, 0, 0, 0, 1, 1, 0, 1, 0,\n",
       "       1, 1, 0, 1, 0, 1, 0, 0, 0, 1, 0, 1, 1, 0, 0, 0, 1, 1, 0, 0, 0, 1,\n",
       "       0, 0, 0, 1, 1, 1, 1, 1, 0, 0, 1, 0, 1, 0, 1, 0, 0, 0, 0, 1, 1, 0,\n",
       "       0, 0, 0, 0, 1, 1, 0, 0, 1, 1, 0, 0, 1, 1, 0, 1, 0, 0, 1, 0, 1, 0,\n",
       "       0, 0, 0, 0, 0, 0, 0, 0, 0, 1, 0, 1, 1, 0, 0, 1, 1, 0, 0, 0, 0, 0,\n",
       "       0, 0, 0, 0, 1, 0, 0, 0, 0, 0, 0, 0, 1, 0, 0, 0, 0, 1, 0, 1, 1, 1,\n",
       "       0, 1, 0, 0, 0, 1, 0, 0, 0, 0, 0, 0, 0, 0, 0, 1, 1, 0, 0, 1, 1, 1,\n",
       "       0, 1, 0, 0, 1, 1, 0, 0, 0, 0, 1, 1, 1, 0, 0, 0, 0, 0, 0, 0, 0, 1,\n",
       "       0, 0, 1, 0, 0, 0, 0, 1, 1, 0, 0, 0, 0, 0, 0, 1, 0, 0, 0, 0, 0, 0,\n",
       "       0, 0, 0, 1, 0, 1, 0, 0, 0, 0, 0, 0, 0, 0, 1, 0, 1, 0, 0, 0, 1, 0,\n",
       "       0, 1, 1, 0, 0, 0, 0, 0, 0, 0, 1, 0, 0, 0, 0, 1, 0, 0, 1, 1, 0, 0,\n",
       "       1, 0, 0])"
      ]
     },
     "execution_count": 7,
     "metadata": {},
     "output_type": "execute_result"
    }
   ],
   "source": [
    "y_pred"
   ]
  },
  {
   "cell_type": "markdown",
   "id": "224b925a",
   "metadata": {},
   "source": [
    "# SHAP"
   ]
  },
  {
   "cell_type": "code",
   "execution_count": 9,
   "id": "29dcb51c",
   "metadata": {},
   "outputs": [
    {
     "data": {
      "image/png": "[encoded data removed]",
      "text/plain": [
       "<Figure size 800x230 with 2 Axes>"
      ]
     },
     "metadata": {},
     "output_type": "display_data"
    },
    {
     "data": {
      "image/png": "[encoded data removed]",
      "text/plain": [
       "<Figure size 2000x300 with 1 Axes>"
      ]
     },
     "metadata": {},
     "output_type": "display_data"
    }
   ],
   "source": [
    "import shap\n",
    "import pandas as pd\n",
    "\n",
    "# Load test data\n",
    "X_test = pd.read_csv(\"X_test_data.csv\")\n",
    "\n",
    "# Create a SHAP explainer\n",
    "explainer = shap.Explainer(model)  # Works directly with XGBClassifier\n",
    "shap_values = explainer(X_test)\n",
    "\n",
    "# Summary plot (global feature importance)\n",
    "shap.summary_plot(shap_values, X_test)\n",
    "\n",
    "# Force plot for a single prediction (local explanation)\n",
    "shap.plots.force(shap_values[0],matplotlib=True)"
   ]
  }
 ],
 "metadata": {
  "kernelspec": {
   "display_name": "bioinfo",
   "language": "python",
   "name": "python3"
  },
  "language_info": {
   "codemirror_mode": {
    "name": "ipython",
    "version": 3
   },
   "file_extension": ".py",
   "mimetype": "text/x-python",
   "name": "python",
   "nbconvert_exporter": "python",
   "pygments_lexer": "ipython3",
   "version": "3.13.5"
  }
 },
 "nbformat": 4,
 "nbformat_minor": 5
}
